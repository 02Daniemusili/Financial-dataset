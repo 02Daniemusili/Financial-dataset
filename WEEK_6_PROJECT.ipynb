{
  "nbformat": 4,
  "nbformat_minor": 0,
  "metadata": {
    "colab": {
      "name": "WEEK 6 PROJECT.ipynb",
      "provenance": [],
      "collapsed_sections": [],
      "authorship_tag": "ABX9TyNcBk1z0C1GU7Qodymxu/zN",
      "include_colab_link": true
    },
    "kernelspec": {
      "display_name": "Python 3",
      "name": "python3"
    },
    "language_info": {
      "name": "python"
    }
  },
  "cells": [
    {
      "cell_type": "markdown",
      "metadata": {
        "id": "view-in-github",
        "colab_type": "text"
      },
      "source": [
        "<a href=\"https://colab.research.google.com/github/12345997/Financial-dataset/blob/main/WEEK_6_PROJECT.ipynb\" target=\"_parent\"><img src=\"https://colab.research.google.com/assets/colab-badge.svg\" alt=\"Open In Colab\"/></a>"
      ]
    },
    {
      "cell_type": "markdown",
      "metadata": {
        "id": "9x3TvyWEKRpT"
      },
      "source": [
        "Fifa dataset configuration"
      ]
    },
    {
      "cell_type": "markdown",
      "metadata": {
        "id": "gbQVC62kL2lX"
      },
      "source": [
        "#1.0 Defining the question"
      ]
    },
    {
      "cell_type": "markdown",
      "metadata": {
        "id": "T5ATZ-v5MSiL"
      },
      "source": [
        "## Specifying the Data Analytic Question"
      ]
    },
    {
      "cell_type": "markdown",
      "metadata": {
        "id": "co1UcPqUDcbM"
      },
      "source": [
        "\n",
        "\n",
        "```\n",
        "\n",
        "#What team had the most wins generally on either away game or home game\n",
        "#what team had the lost the most on either home or away game\n",
        "```\n",
        "\n"
      ]
    },
    {
      "cell_type": "markdown",
      "metadata": {
        "id": "xE_rqlq7MrcA"
      },
      "source": [
        "###Defining the metric of success"
      ]
    },
    {
      "cell_type": "markdown",
      "metadata": {
        "id": "32iSMnFAD4-c"
      },
      "source": [
        "\n",
        "\n",
        "```\n",
        "#To find the probability that a team will win a home game or an away game\n",
        "```\n",
        "\n"
      ]
    },
    {
      "cell_type": "markdown",
      "metadata": {
        "id": "3pVAb39yNEbN"
      },
      "source": [
        "###Data relevance"
      ]
    },
    {
      "cell_type": "markdown",
      "metadata": {
        "id": "mqTwK-DISUMD"
      },
      "source": [
        "the aim of this project is to predic the probability of anaway or a home team winning a game"
      ]
    },
    {
      "cell_type": "markdown",
      "metadata": {
        "id": "fMmbb9wkNPIv"
      },
      "source": [
        "#2.0 Importing the Libraries"
      ]
    },
    {
      "cell_type": "code",
      "metadata": {
        "id": "7XJkZMaMKOhh"
      },
      "source": [
        "# Importing the relevant libraries\n",
        "import matplotlib.pyplot as plt\n",
        "import pandas as pd\n",
        "import numpy as np\n",
        "import scipy.stats as stats\n",
        "import seaborn as sns\n",
        "import matplotlib\n",
        "from matplotlib import pyplot as plt\n",
        "\n"
      ],
      "execution_count": null,
      "outputs": []
    },
    {
      "cell_type": "markdown",
      "metadata": {
        "id": "dKsncBX8NbTw"
      },
      "source": [
        "#3.0 Loading the data"
      ]
    },
    {
      "cell_type": "code",
      "metadata": {
        "id": "mfZg6bbdNhb6"
      },
      "source": [
        "#Reading the data into our environmet\n",
        "results=pd.read_csv(\"results.csv\")"
      ],
      "execution_count": null,
      "outputs": []
    },
    {
      "cell_type": "code",
      "metadata": {
        "id": "T6Dbl78WGFGd"
      },
      "source": [
        "#Reading the data into our environmet\n",
        "fifa_ranking=pd.read_csv(\"/content/fifa_ranking.csv\")"
      ],
      "execution_count": null,
      "outputs": []
    },
    {
      "cell_type": "markdown",
      "metadata": {
        "id": "6uArBESQNycC"
      },
      "source": [
        "#4.0 Previewing the dataset"
      ]
    },
    {
      "cell_type": "code",
      "metadata": {
        "colab": {
          "base_uri": "https://localhost:8080/"
        },
        "id": "2RqgPodvN9qg",
        "outputId": "c1880883-d003-4cfa-ef88-4b51ac9ad1f4"
      },
      "source": [
        "#checking the number of records\n",
        "fifa_ranking.shape"
      ],
      "execution_count": null,
      "outputs": [
        {
          "output_type": "execute_result",
          "data": {
            "text/plain": [
              "(57793, 16)"
            ]
          },
          "metadata": {
            "tags": []
          },
          "execution_count": 4
        }
      ]
    },
    {
      "cell_type": "code",
      "metadata": {
        "colab": {
          "base_uri": "https://localhost:8080/"
        },
        "id": "SBpfjGUMI_Xe",
        "outputId": "208230d9-43bf-45ad-9ccb-d6918d31d620"
      },
      "source": [
        "#checking the number of records\n",
        "fifa_ranking.shape"
      ],
      "execution_count": null,
      "outputs": [
        {
          "output_type": "execute_result",
          "data": {
            "text/plain": [
              "(57793, 16)"
            ]
          },
          "metadata": {
            "tags": []
          },
          "execution_count": 5
        }
      ]
    },
    {
      "cell_type": "code",
      "metadata": {
        "colab": {
          "base_uri": "https://localhost:8080/",
          "height": 204
        },
        "id": "K0xo8yKfOK6b",
        "outputId": "1ae03620-0183-4049-cffc-430260cbdc50"
      },
      "source": [
        "#previewing the first five records\n",
        "results.head(5)"
      ],
      "execution_count": null,
      "outputs": [
        {
          "output_type": "execute_result",
          "data": {
            "text/html": [
              "<div>\n",
              "<style scoped>\n",
              "    .dataframe tbody tr th:only-of-type {\n",
              "        vertical-align: middle;\n",
              "    }\n",
              "\n",
              "    .dataframe tbody tr th {\n",
              "        vertical-align: top;\n",
              "    }\n",
              "\n",
              "    .dataframe thead th {\n",
              "        text-align: right;\n",
              "    }\n",
              "</style>\n",
              "<table border=\"1\" class=\"dataframe\">\n",
              "  <thead>\n",
              "    <tr style=\"text-align: right;\">\n",
              "      <th></th>\n",
              "      <th>date</th>\n",
              "      <th>home_team</th>\n",
              "      <th>away_team</th>\n",
              "      <th>home_score</th>\n",
              "      <th>away_score</th>\n",
              "      <th>tournament</th>\n",
              "      <th>city</th>\n",
              "      <th>country</th>\n",
              "      <th>neutral</th>\n",
              "    </tr>\n",
              "  </thead>\n",
              "  <tbody>\n",
              "    <tr>\n",
              "      <th>0</th>\n",
              "      <td>1872-11-30</td>\n",
              "      <td>Scotland</td>\n",
              "      <td>England</td>\n",
              "      <td>0</td>\n",
              "      <td>0</td>\n",
              "      <td>Friendly</td>\n",
              "      <td>Glasgow</td>\n",
              "      <td>Scotland</td>\n",
              "      <td>False</td>\n",
              "    </tr>\n",
              "    <tr>\n",
              "      <th>1</th>\n",
              "      <td>1873-03-08</td>\n",
              "      <td>England</td>\n",
              "      <td>Scotland</td>\n",
              "      <td>4</td>\n",
              "      <td>2</td>\n",
              "      <td>Friendly</td>\n",
              "      <td>London</td>\n",
              "      <td>England</td>\n",
              "      <td>False</td>\n",
              "    </tr>\n",
              "    <tr>\n",
              "      <th>2</th>\n",
              "      <td>1874-03-07</td>\n",
              "      <td>Scotland</td>\n",
              "      <td>England</td>\n",
              "      <td>2</td>\n",
              "      <td>1</td>\n",
              "      <td>Friendly</td>\n",
              "      <td>Glasgow</td>\n",
              "      <td>Scotland</td>\n",
              "      <td>False</td>\n",
              "    </tr>\n",
              "    <tr>\n",
              "      <th>3</th>\n",
              "      <td>1875-03-06</td>\n",
              "      <td>England</td>\n",
              "      <td>Scotland</td>\n",
              "      <td>2</td>\n",
              "      <td>2</td>\n",
              "      <td>Friendly</td>\n",
              "      <td>London</td>\n",
              "      <td>England</td>\n",
              "      <td>False</td>\n",
              "    </tr>\n",
              "    <tr>\n",
              "      <th>4</th>\n",
              "      <td>1876-03-04</td>\n",
              "      <td>Scotland</td>\n",
              "      <td>England</td>\n",
              "      <td>3</td>\n",
              "      <td>0</td>\n",
              "      <td>Friendly</td>\n",
              "      <td>Glasgow</td>\n",
              "      <td>Scotland</td>\n",
              "      <td>False</td>\n",
              "    </tr>\n",
              "  </tbody>\n",
              "</table>\n",
              "</div>"
            ],
            "text/plain": [
              "         date home_team away_team  ...     city   country neutral\n",
              "0  1872-11-30  Scotland   England  ...  Glasgow  Scotland   False\n",
              "1  1873-03-08   England  Scotland  ...   London   England   False\n",
              "2  1874-03-07  Scotland   England  ...  Glasgow  Scotland   False\n",
              "3  1875-03-06   England  Scotland  ...   London   England   False\n",
              "4  1876-03-04  Scotland   England  ...  Glasgow  Scotland   False\n",
              "\n",
              "[5 rows x 9 columns]"
            ]
          },
          "metadata": {
            "tags": []
          },
          "execution_count": 6
        }
      ]
    },
    {
      "cell_type": "code",
      "metadata": {
        "colab": {
          "base_uri": "https://localhost:8080/",
          "height": 289
        },
        "id": "hDaKpO_wJhgm",
        "outputId": "48572372-5bbf-4e85-984c-847ac2e8d9dc"
      },
      "source": [
        "#previewing  the last five records\n",
        "results.tail(5)"
      ],
      "execution_count": null,
      "outputs": [
        {
          "output_type": "execute_result",
          "data": {
            "text/html": [
              "<div>\n",
              "<style scoped>\n",
              "    .dataframe tbody tr th:only-of-type {\n",
              "        vertical-align: middle;\n",
              "    }\n",
              "\n",
              "    .dataframe tbody tr th {\n",
              "        vertical-align: top;\n",
              "    }\n",
              "\n",
              "    .dataframe thead th {\n",
              "        text-align: right;\n",
              "    }\n",
              "</style>\n",
              "<table border=\"1\" class=\"dataframe\">\n",
              "  <thead>\n",
              "    <tr style=\"text-align: right;\">\n",
              "      <th></th>\n",
              "      <th>date</th>\n",
              "      <th>home_team</th>\n",
              "      <th>away_team</th>\n",
              "      <th>home_score</th>\n",
              "      <th>away_score</th>\n",
              "      <th>tournament</th>\n",
              "      <th>city</th>\n",
              "      <th>country</th>\n",
              "      <th>neutral</th>\n",
              "    </tr>\n",
              "  </thead>\n",
              "  <tbody>\n",
              "    <tr>\n",
              "      <th>40834</th>\n",
              "      <td>2019-07-18</td>\n",
              "      <td>American Samoa</td>\n",
              "      <td>Tahiti</td>\n",
              "      <td>8</td>\n",
              "      <td>1</td>\n",
              "      <td>Pacific Games</td>\n",
              "      <td>Apia</td>\n",
              "      <td>Samoa</td>\n",
              "      <td>True</td>\n",
              "    </tr>\n",
              "    <tr>\n",
              "      <th>40835</th>\n",
              "      <td>2019-07-18</td>\n",
              "      <td>Fiji</td>\n",
              "      <td>Solomon Islands</td>\n",
              "      <td>4</td>\n",
              "      <td>4</td>\n",
              "      <td>Pacific Games</td>\n",
              "      <td>Apia</td>\n",
              "      <td>Samoa</td>\n",
              "      <td>True</td>\n",
              "    </tr>\n",
              "    <tr>\n",
              "      <th>40836</th>\n",
              "      <td>2019-07-19</td>\n",
              "      <td>Senegal</td>\n",
              "      <td>Algeria</td>\n",
              "      <td>0</td>\n",
              "      <td>1</td>\n",
              "      <td>African Cup of Nations</td>\n",
              "      <td>Cairo</td>\n",
              "      <td>Egypt</td>\n",
              "      <td>True</td>\n",
              "    </tr>\n",
              "    <tr>\n",
              "      <th>40837</th>\n",
              "      <td>2019-07-19</td>\n",
              "      <td>Tajikistan</td>\n",
              "      <td>North Korea</td>\n",
              "      <td>0</td>\n",
              "      <td>1</td>\n",
              "      <td>Intercontinental Cup</td>\n",
              "      <td>Ahmedabad</td>\n",
              "      <td>India</td>\n",
              "      <td>True</td>\n",
              "    </tr>\n",
              "    <tr>\n",
              "      <th>40838</th>\n",
              "      <td>2019-07-20</td>\n",
              "      <td>Papua New Guinea</td>\n",
              "      <td>Fiji</td>\n",
              "      <td>1</td>\n",
              "      <td>1</td>\n",
              "      <td>Pacific Games</td>\n",
              "      <td>Apia</td>\n",
              "      <td>Samoa</td>\n",
              "      <td>True</td>\n",
              "    </tr>\n",
              "  </tbody>\n",
              "</table>\n",
              "</div>"
            ],
            "text/plain": [
              "             date         home_team  ... country  neutral\n",
              "40834  2019-07-18    American Samoa  ...   Samoa     True\n",
              "40835  2019-07-18              Fiji  ...   Samoa     True\n",
              "40836  2019-07-19           Senegal  ...   Egypt     True\n",
              "40837  2019-07-19        Tajikistan  ...   India     True\n",
              "40838  2019-07-20  Papua New Guinea  ...   Samoa     True\n",
              "\n",
              "[5 rows x 9 columns]"
            ]
          },
          "metadata": {
            "tags": []
          },
          "execution_count": 7
        }
      ]
    },
    {
      "cell_type": "code",
      "metadata": {
        "colab": {
          "base_uri": "https://localhost:8080/",
          "height": 309
        },
        "id": "3WhVFuMRJwe2",
        "outputId": "3a5e561c-bf5a-4974-e1f1-07cf95294ec5"
      },
      "source": [
        "fifa_ranking.head()"
      ],
      "execution_count": null,
      "outputs": [
        {
          "output_type": "execute_result",
          "data": {
            "text/html": [
              "<div>\n",
              "<style scoped>\n",
              "    .dataframe tbody tr th:only-of-type {\n",
              "        vertical-align: middle;\n",
              "    }\n",
              "\n",
              "    .dataframe tbody tr th {\n",
              "        vertical-align: top;\n",
              "    }\n",
              "\n",
              "    .dataframe thead th {\n",
              "        text-align: right;\n",
              "    }\n",
              "</style>\n",
              "<table border=\"1\" class=\"dataframe\">\n",
              "  <thead>\n",
              "    <tr style=\"text-align: right;\">\n",
              "      <th></th>\n",
              "      <th>rank</th>\n",
              "      <th>country_full</th>\n",
              "      <th>country_abrv</th>\n",
              "      <th>total_points</th>\n",
              "      <th>previous_points</th>\n",
              "      <th>rank_change</th>\n",
              "      <th>cur_year_avg</th>\n",
              "      <th>cur_year_avg_weighted</th>\n",
              "      <th>last_year_avg</th>\n",
              "      <th>last_year_avg_weighted</th>\n",
              "      <th>two_year_ago_avg</th>\n",
              "      <th>two_year_ago_weighted</th>\n",
              "      <th>three_year_ago_avg</th>\n",
              "      <th>three_year_ago_weighted</th>\n",
              "      <th>confederation</th>\n",
              "      <th>rank_date</th>\n",
              "    </tr>\n",
              "  </thead>\n",
              "  <tbody>\n",
              "    <tr>\n",
              "      <th>0</th>\n",
              "      <td>1</td>\n",
              "      <td>Germany</td>\n",
              "      <td>GER</td>\n",
              "      <td>0.0</td>\n",
              "      <td>57</td>\n",
              "      <td>0</td>\n",
              "      <td>0.0</td>\n",
              "      <td>0.0</td>\n",
              "      <td>0.0</td>\n",
              "      <td>0.0</td>\n",
              "      <td>0.0</td>\n",
              "      <td>0.0</td>\n",
              "      <td>0.0</td>\n",
              "      <td>0.0</td>\n",
              "      <td>UEFA</td>\n",
              "      <td>1993-08-08</td>\n",
              "    </tr>\n",
              "    <tr>\n",
              "      <th>1</th>\n",
              "      <td>2</td>\n",
              "      <td>Italy</td>\n",
              "      <td>ITA</td>\n",
              "      <td>0.0</td>\n",
              "      <td>57</td>\n",
              "      <td>0</td>\n",
              "      <td>0.0</td>\n",
              "      <td>0.0</td>\n",
              "      <td>0.0</td>\n",
              "      <td>0.0</td>\n",
              "      <td>0.0</td>\n",
              "      <td>0.0</td>\n",
              "      <td>0.0</td>\n",
              "      <td>0.0</td>\n",
              "      <td>UEFA</td>\n",
              "      <td>1993-08-08</td>\n",
              "    </tr>\n",
              "    <tr>\n",
              "      <th>2</th>\n",
              "      <td>3</td>\n",
              "      <td>Switzerland</td>\n",
              "      <td>SUI</td>\n",
              "      <td>0.0</td>\n",
              "      <td>50</td>\n",
              "      <td>9</td>\n",
              "      <td>0.0</td>\n",
              "      <td>0.0</td>\n",
              "      <td>0.0</td>\n",
              "      <td>0.0</td>\n",
              "      <td>0.0</td>\n",
              "      <td>0.0</td>\n",
              "      <td>0.0</td>\n",
              "      <td>0.0</td>\n",
              "      <td>UEFA</td>\n",
              "      <td>1993-08-08</td>\n",
              "    </tr>\n",
              "    <tr>\n",
              "      <th>3</th>\n",
              "      <td>4</td>\n",
              "      <td>Sweden</td>\n",
              "      <td>SWE</td>\n",
              "      <td>0.0</td>\n",
              "      <td>55</td>\n",
              "      <td>0</td>\n",
              "      <td>0.0</td>\n",
              "      <td>0.0</td>\n",
              "      <td>0.0</td>\n",
              "      <td>0.0</td>\n",
              "      <td>0.0</td>\n",
              "      <td>0.0</td>\n",
              "      <td>0.0</td>\n",
              "      <td>0.0</td>\n",
              "      <td>UEFA</td>\n",
              "      <td>1993-08-08</td>\n",
              "    </tr>\n",
              "    <tr>\n",
              "      <th>4</th>\n",
              "      <td>5</td>\n",
              "      <td>Argentina</td>\n",
              "      <td>ARG</td>\n",
              "      <td>0.0</td>\n",
              "      <td>51</td>\n",
              "      <td>5</td>\n",
              "      <td>0.0</td>\n",
              "      <td>0.0</td>\n",
              "      <td>0.0</td>\n",
              "      <td>0.0</td>\n",
              "      <td>0.0</td>\n",
              "      <td>0.0</td>\n",
              "      <td>0.0</td>\n",
              "      <td>0.0</td>\n",
              "      <td>CONMEBOL</td>\n",
              "      <td>1993-08-08</td>\n",
              "    </tr>\n",
              "  </tbody>\n",
              "</table>\n",
              "</div>"
            ],
            "text/plain": [
              "   rank country_full  ... confederation   rank_date\n",
              "0     1      Germany  ...          UEFA  1993-08-08\n",
              "1     2        Italy  ...          UEFA  1993-08-08\n",
              "2     3  Switzerland  ...          UEFA  1993-08-08\n",
              "3     4       Sweden  ...          UEFA  1993-08-08\n",
              "4     5    Argentina  ...      CONMEBOL  1993-08-08\n",
              "\n",
              "[5 rows x 16 columns]"
            ]
          },
          "metadata": {
            "tags": []
          },
          "execution_count": 8
        }
      ]
    },
    {
      "cell_type": "code",
      "metadata": {
        "colab": {
          "base_uri": "https://localhost:8080/",
          "height": 309
        },
        "id": "G7cTrj5ROWB4",
        "outputId": "ff0d6f59-5fbe-4070-d7ed-8dbe47a319bc"
      },
      "source": [
        "#previewing the last five records\n",
        "fifa_ranking.tail(5)"
      ],
      "execution_count": null,
      "outputs": [
        {
          "output_type": "execute_result",
          "data": {
            "text/html": [
              "<div>\n",
              "<style scoped>\n",
              "    .dataframe tbody tr th:only-of-type {\n",
              "        vertical-align: middle;\n",
              "    }\n",
              "\n",
              "    .dataframe tbody tr th {\n",
              "        vertical-align: top;\n",
              "    }\n",
              "\n",
              "    .dataframe thead th {\n",
              "        text-align: right;\n",
              "    }\n",
              "</style>\n",
              "<table border=\"1\" class=\"dataframe\">\n",
              "  <thead>\n",
              "    <tr style=\"text-align: right;\">\n",
              "      <th></th>\n",
              "      <th>rank</th>\n",
              "      <th>country_full</th>\n",
              "      <th>country_abrv</th>\n",
              "      <th>total_points</th>\n",
              "      <th>previous_points</th>\n",
              "      <th>rank_change</th>\n",
              "      <th>cur_year_avg</th>\n",
              "      <th>cur_year_avg_weighted</th>\n",
              "      <th>last_year_avg</th>\n",
              "      <th>last_year_avg_weighted</th>\n",
              "      <th>two_year_ago_avg</th>\n",
              "      <th>two_year_ago_weighted</th>\n",
              "      <th>three_year_ago_avg</th>\n",
              "      <th>three_year_ago_weighted</th>\n",
              "      <th>confederation</th>\n",
              "      <th>rank_date</th>\n",
              "    </tr>\n",
              "  </thead>\n",
              "  <tbody>\n",
              "    <tr>\n",
              "      <th>57788</th>\n",
              "      <td>206</td>\n",
              "      <td>Anguilla</td>\n",
              "      <td>AIA</td>\n",
              "      <td>0.0</td>\n",
              "      <td>0</td>\n",
              "      <td>1</td>\n",
              "      <td>0.0</td>\n",
              "      <td>0.0</td>\n",
              "      <td>0.0</td>\n",
              "      <td>0.0</td>\n",
              "      <td>0.0</td>\n",
              "      <td>0.0</td>\n",
              "      <td>0.0</td>\n",
              "      <td>0.0</td>\n",
              "      <td>CONCACAF</td>\n",
              "      <td>2018-06-07</td>\n",
              "    </tr>\n",
              "    <tr>\n",
              "      <th>57789</th>\n",
              "      <td>206</td>\n",
              "      <td>Bahamas</td>\n",
              "      <td>BAH</td>\n",
              "      <td>0.0</td>\n",
              "      <td>0</td>\n",
              "      <td>1</td>\n",
              "      <td>0.0</td>\n",
              "      <td>0.0</td>\n",
              "      <td>0.0</td>\n",
              "      <td>0.0</td>\n",
              "      <td>0.0</td>\n",
              "      <td>0.0</td>\n",
              "      <td>0.0</td>\n",
              "      <td>0.0</td>\n",
              "      <td>CONCACAF</td>\n",
              "      <td>2018-06-07</td>\n",
              "    </tr>\n",
              "    <tr>\n",
              "      <th>57790</th>\n",
              "      <td>206</td>\n",
              "      <td>Eritrea</td>\n",
              "      <td>ERI</td>\n",
              "      <td>0.0</td>\n",
              "      <td>0</td>\n",
              "      <td>1</td>\n",
              "      <td>0.0</td>\n",
              "      <td>0.0</td>\n",
              "      <td>0.0</td>\n",
              "      <td>0.0</td>\n",
              "      <td>0.0</td>\n",
              "      <td>0.0</td>\n",
              "      <td>0.0</td>\n",
              "      <td>0.0</td>\n",
              "      <td>CAF</td>\n",
              "      <td>2018-06-07</td>\n",
              "    </tr>\n",
              "    <tr>\n",
              "      <th>57791</th>\n",
              "      <td>206</td>\n",
              "      <td>Somalia</td>\n",
              "      <td>SOM</td>\n",
              "      <td>0.0</td>\n",
              "      <td>0</td>\n",
              "      <td>1</td>\n",
              "      <td>0.0</td>\n",
              "      <td>0.0</td>\n",
              "      <td>0.0</td>\n",
              "      <td>0.0</td>\n",
              "      <td>0.0</td>\n",
              "      <td>0.0</td>\n",
              "      <td>0.0</td>\n",
              "      <td>0.0</td>\n",
              "      <td>CAF</td>\n",
              "      <td>2018-06-07</td>\n",
              "    </tr>\n",
              "    <tr>\n",
              "      <th>57792</th>\n",
              "      <td>206</td>\n",
              "      <td>Tonga</td>\n",
              "      <td>TGA</td>\n",
              "      <td>0.0</td>\n",
              "      <td>0</td>\n",
              "      <td>1</td>\n",
              "      <td>0.0</td>\n",
              "      <td>0.0</td>\n",
              "      <td>0.0</td>\n",
              "      <td>0.0</td>\n",
              "      <td>0.0</td>\n",
              "      <td>0.0</td>\n",
              "      <td>0.0</td>\n",
              "      <td>0.0</td>\n",
              "      <td>OFC</td>\n",
              "      <td>2018-06-07</td>\n",
              "    </tr>\n",
              "  </tbody>\n",
              "</table>\n",
              "</div>"
            ],
            "text/plain": [
              "       rank country_full  ... confederation   rank_date\n",
              "57788   206     Anguilla  ...      CONCACAF  2018-06-07\n",
              "57789   206      Bahamas  ...      CONCACAF  2018-06-07\n",
              "57790   206      Eritrea  ...           CAF  2018-06-07\n",
              "57791   206      Somalia  ...           CAF  2018-06-07\n",
              "57792   206        Tonga  ...           OFC  2018-06-07\n",
              "\n",
              "[5 rows x 16 columns]"
            ]
          },
          "metadata": {
            "tags": []
          },
          "execution_count": 9
        }
      ]
    },
    {
      "cell_type": "code",
      "metadata": {
        "colab": {
          "base_uri": "https://localhost:8080/"
        },
        "id": "UlTEu3kIKE0U",
        "outputId": "22c5a56b-02a6-4558-f805-6866a86fcce9"
      },
      "source": [
        "#checking the datatypes in each column\n",
        "results.dtypes"
      ],
      "execution_count": null,
      "outputs": [
        {
          "output_type": "execute_result",
          "data": {
            "text/plain": [
              "date          object\n",
              "home_team     object\n",
              "away_team     object\n",
              "home_score     int64\n",
              "away_score     int64\n",
              "tournament    object\n",
              "city          object\n",
              "country       object\n",
              "neutral         bool\n",
              "dtype: object"
            ]
          },
          "metadata": {
            "tags": []
          },
          "execution_count": 10
        }
      ]
    },
    {
      "cell_type": "code",
      "metadata": {
        "colab": {
          "base_uri": "https://localhost:8080/"
        },
        "id": "oK1H1cK9OicZ",
        "outputId": "fce0a483-1a29-459a-8aaa-b257fa0fb487"
      },
      "source": [
        "#checking the datatypes in each column\n",
        "fifa_ranking.dtypes"
      ],
      "execution_count": null,
      "outputs": [
        {
          "output_type": "execute_result",
          "data": {
            "text/plain": [
              "rank                         int64\n",
              "country_full                object\n",
              "country_abrv                object\n",
              "total_points               float64\n",
              "previous_points              int64\n",
              "rank_change                  int64\n",
              "cur_year_avg               float64\n",
              "cur_year_avg_weighted      float64\n",
              "last_year_avg              float64\n",
              "last_year_avg_weighted     float64\n",
              "two_year_ago_avg           float64\n",
              "two_year_ago_weighted      float64\n",
              "three_year_ago_avg         float64\n",
              "three_year_ago_weighted    float64\n",
              "confederation               object\n",
              "rank_date                   object\n",
              "dtype: object"
            ]
          },
          "metadata": {
            "tags": []
          },
          "execution_count": 11
        }
      ]
    },
    {
      "cell_type": "code",
      "metadata": {
        "colab": {
          "base_uri": "https://localhost:8080/"
        },
        "id": "vBUw2m_sO5XX",
        "outputId": "d891e9b6-76d9-4352-b09c-7af1e2fd2b19"
      },
      "source": [
        "#Checking the data's info\n",
        "fifa_ranking.info()"
      ],
      "execution_count": null,
      "outputs": [
        {
          "output_type": "stream",
          "text": [
            "<class 'pandas.core.frame.DataFrame'>\n",
            "RangeIndex: 57793 entries, 0 to 57792\n",
            "Data columns (total 16 columns):\n",
            " #   Column                   Non-Null Count  Dtype  \n",
            "---  ------                   --------------  -----  \n",
            " 0   rank                     57793 non-null  int64  \n",
            " 1   country_full             57793 non-null  object \n",
            " 2   country_abrv             57793 non-null  object \n",
            " 3   total_points             57793 non-null  float64\n",
            " 4   previous_points          57793 non-null  int64  \n",
            " 5   rank_change              57793 non-null  int64  \n",
            " 6   cur_year_avg             57793 non-null  float64\n",
            " 7   cur_year_avg_weighted    57793 non-null  float64\n",
            " 8   last_year_avg            57793 non-null  float64\n",
            " 9   last_year_avg_weighted   57793 non-null  float64\n",
            " 10  two_year_ago_avg         57793 non-null  float64\n",
            " 11  two_year_ago_weighted    57793 non-null  float64\n",
            " 12  three_year_ago_avg       57793 non-null  float64\n",
            " 13  three_year_ago_weighted  57793 non-null  float64\n",
            " 14  confederation            57793 non-null  object \n",
            " 15  rank_date                57793 non-null  object \n",
            "dtypes: float64(9), int64(3), object(4)\n",
            "memory usage: 7.1+ MB\n"
          ],
          "name": "stdout"
        }
      ]
    },
    {
      "cell_type": "code",
      "metadata": {
        "colab": {
          "base_uri": "https://localhost:8080/",
          "height": 69
        },
        "id": "9_woLMFFnZ1P",
        "outputId": "8b6560b4-d2c0-4415-b0db-0b6061b05641"
      },
      "source": [
        "# Changing the columns to lower case\n",
        "fifa_ranking.columns = fifa_ranking.columns.str.lower()\n",
        "fifa_ranking.head(0)"
      ],
      "execution_count": null,
      "outputs": [
        {
          "output_type": "execute_result",
          "data": {
            "text/html": [
              "<div>\n",
              "<style scoped>\n",
              "    .dataframe tbody tr th:only-of-type {\n",
              "        vertical-align: middle;\n",
              "    }\n",
              "\n",
              "    .dataframe tbody tr th {\n",
              "        vertical-align: top;\n",
              "    }\n",
              "\n",
              "    .dataframe thead th {\n",
              "        text-align: right;\n",
              "    }\n",
              "</style>\n",
              "<table border=\"1\" class=\"dataframe\">\n",
              "  <thead>\n",
              "    <tr style=\"text-align: right;\">\n",
              "      <th></th>\n",
              "      <th>rank</th>\n",
              "      <th>country_full</th>\n",
              "      <th>country_abrv</th>\n",
              "      <th>total_points</th>\n",
              "      <th>previous_points</th>\n",
              "      <th>rank_change</th>\n",
              "      <th>cur_year_avg</th>\n",
              "      <th>cur_year_avg_weighted</th>\n",
              "      <th>last_year_avg</th>\n",
              "      <th>last_year_avg_weighted</th>\n",
              "      <th>two_year_ago_avg</th>\n",
              "      <th>two_year_ago_weighted</th>\n",
              "      <th>three_year_ago_avg</th>\n",
              "      <th>three_year_ago_weighted</th>\n",
              "      <th>confederation</th>\n",
              "      <th>rank_date</th>\n",
              "    </tr>\n",
              "  </thead>\n",
              "  <tbody>\n",
              "  </tbody>\n",
              "</table>\n",
              "</div>"
            ],
            "text/plain": [
              "Empty DataFrame\n",
              "Columns: [rank, country_full, country_abrv, total_points, previous_points, rank_change, cur_year_avg, cur_year_avg_weighted, last_year_avg, last_year_avg_weighted, two_year_ago_avg, two_year_ago_weighted, three_year_ago_avg, three_year_ago_weighted, confederation, rank_date]\n",
              "Index: []"
            ]
          },
          "metadata": {
            "tags": []
          },
          "execution_count": 13
        }
      ]
    },
    {
      "cell_type": "code",
      "metadata": {
        "id": "VAFibrGRfod3"
      },
      "source": [
        "#Fifa_data = Fifa_data.rename(columns={'country_full':'country'},axis=1, inplace=True)\n",
        "fifa_ranking.rename(columns = {'country_full' : \"country\"},inplace=True)"
      ],
      "execution_count": null,
      "outputs": []
    },
    {
      "cell_type": "code",
      "metadata": {
        "colab": {
          "base_uri": "https://localhost:8080/"
        },
        "id": "5pWB2pSnM-Xq",
        "outputId": "12c2bc7e-b42f-4f0e-f38f-e1b18b6b6b92"
      },
      "source": [
        "results.info()"
      ],
      "execution_count": null,
      "outputs": [
        {
          "output_type": "stream",
          "text": [
            "<class 'pandas.core.frame.DataFrame'>\n",
            "RangeIndex: 40839 entries, 0 to 40838\n",
            "Data columns (total 9 columns):\n",
            " #   Column      Non-Null Count  Dtype \n",
            "---  ------      --------------  ----- \n",
            " 0   date        40839 non-null  object\n",
            " 1   home_team   40839 non-null  object\n",
            " 2   away_team   40839 non-null  object\n",
            " 3   home_score  40839 non-null  int64 \n",
            " 4   away_score  40839 non-null  int64 \n",
            " 5   tournament  40839 non-null  object\n",
            " 6   city        40839 non-null  object\n",
            " 7   country     40839 non-null  object\n",
            " 8   neutral     40839 non-null  bool  \n",
            "dtypes: bool(1), int64(2), object(6)\n",
            "memory usage: 2.5+ MB\n"
          ],
          "name": "stdout"
        }
      ]
    },
    {
      "cell_type": "code",
      "metadata": {
        "id": "f6LajvUdNRby"
      },
      "source": [
        "# Place the DataFrames side by side\n",
        "Fifa_results = pd.concat([fifa_ranking, results], axis=1)"
      ],
      "execution_count": null,
      "outputs": []
    },
    {
      "cell_type": "code",
      "metadata": {
        "colab": {
          "base_uri": "https://localhost:8080/",
          "height": 309
        },
        "id": "BHDgjcluOSff",
        "outputId": "ebe85a7a-bb83-4a83-f1a1-b453fa0134fa"
      },
      "source": [
        "##Previewing our new data\n",
        "Fifa_results.head()"
      ],
      "execution_count": null,
      "outputs": [
        {
          "output_type": "execute_result",
          "data": {
            "text/html": [
              "<div>\n",
              "<style scoped>\n",
              "    .dataframe tbody tr th:only-of-type {\n",
              "        vertical-align: middle;\n",
              "    }\n",
              "\n",
              "    .dataframe tbody tr th {\n",
              "        vertical-align: top;\n",
              "    }\n",
              "\n",
              "    .dataframe thead th {\n",
              "        text-align: right;\n",
              "    }\n",
              "</style>\n",
              "<table border=\"1\" class=\"dataframe\">\n",
              "  <thead>\n",
              "    <tr style=\"text-align: right;\">\n",
              "      <th></th>\n",
              "      <th>rank</th>\n",
              "      <th>country</th>\n",
              "      <th>country_abrv</th>\n",
              "      <th>total_points</th>\n",
              "      <th>previous_points</th>\n",
              "      <th>rank_change</th>\n",
              "      <th>cur_year_avg</th>\n",
              "      <th>cur_year_avg_weighted</th>\n",
              "      <th>last_year_avg</th>\n",
              "      <th>last_year_avg_weighted</th>\n",
              "      <th>two_year_ago_avg</th>\n",
              "      <th>two_year_ago_weighted</th>\n",
              "      <th>three_year_ago_avg</th>\n",
              "      <th>three_year_ago_weighted</th>\n",
              "      <th>confederation</th>\n",
              "      <th>rank_date</th>\n",
              "      <th>date</th>\n",
              "      <th>home_team</th>\n",
              "      <th>away_team</th>\n",
              "      <th>home_score</th>\n",
              "      <th>away_score</th>\n",
              "      <th>tournament</th>\n",
              "      <th>city</th>\n",
              "      <th>country</th>\n",
              "      <th>neutral</th>\n",
              "    </tr>\n",
              "  </thead>\n",
              "  <tbody>\n",
              "    <tr>\n",
              "      <th>0</th>\n",
              "      <td>1</td>\n",
              "      <td>Germany</td>\n",
              "      <td>GER</td>\n",
              "      <td>0.0</td>\n",
              "      <td>57</td>\n",
              "      <td>0</td>\n",
              "      <td>0.0</td>\n",
              "      <td>0.0</td>\n",
              "      <td>0.0</td>\n",
              "      <td>0.0</td>\n",
              "      <td>0.0</td>\n",
              "      <td>0.0</td>\n",
              "      <td>0.0</td>\n",
              "      <td>0.0</td>\n",
              "      <td>UEFA</td>\n",
              "      <td>1993-08-08</td>\n",
              "      <td>1872-11-30</td>\n",
              "      <td>Scotland</td>\n",
              "      <td>England</td>\n",
              "      <td>0.0</td>\n",
              "      <td>0.0</td>\n",
              "      <td>Friendly</td>\n",
              "      <td>Glasgow</td>\n",
              "      <td>Scotland</td>\n",
              "      <td>False</td>\n",
              "    </tr>\n",
              "    <tr>\n",
              "      <th>1</th>\n",
              "      <td>2</td>\n",
              "      <td>Italy</td>\n",
              "      <td>ITA</td>\n",
              "      <td>0.0</td>\n",
              "      <td>57</td>\n",
              "      <td>0</td>\n",
              "      <td>0.0</td>\n",
              "      <td>0.0</td>\n",
              "      <td>0.0</td>\n",
              "      <td>0.0</td>\n",
              "      <td>0.0</td>\n",
              "      <td>0.0</td>\n",
              "      <td>0.0</td>\n",
              "      <td>0.0</td>\n",
              "      <td>UEFA</td>\n",
              "      <td>1993-08-08</td>\n",
              "      <td>1873-03-08</td>\n",
              "      <td>England</td>\n",
              "      <td>Scotland</td>\n",
              "      <td>4.0</td>\n",
              "      <td>2.0</td>\n",
              "      <td>Friendly</td>\n",
              "      <td>London</td>\n",
              "      <td>England</td>\n",
              "      <td>False</td>\n",
              "    </tr>\n",
              "    <tr>\n",
              "      <th>2</th>\n",
              "      <td>3</td>\n",
              "      <td>Switzerland</td>\n",
              "      <td>SUI</td>\n",
              "      <td>0.0</td>\n",
              "      <td>50</td>\n",
              "      <td>9</td>\n",
              "      <td>0.0</td>\n",
              "      <td>0.0</td>\n",
              "      <td>0.0</td>\n",
              "      <td>0.0</td>\n",
              "      <td>0.0</td>\n",
              "      <td>0.0</td>\n",
              "      <td>0.0</td>\n",
              "      <td>0.0</td>\n",
              "      <td>UEFA</td>\n",
              "      <td>1993-08-08</td>\n",
              "      <td>1874-03-07</td>\n",
              "      <td>Scotland</td>\n",
              "      <td>England</td>\n",
              "      <td>2.0</td>\n",
              "      <td>1.0</td>\n",
              "      <td>Friendly</td>\n",
              "      <td>Glasgow</td>\n",
              "      <td>Scotland</td>\n",
              "      <td>False</td>\n",
              "    </tr>\n",
              "    <tr>\n",
              "      <th>3</th>\n",
              "      <td>4</td>\n",
              "      <td>Sweden</td>\n",
              "      <td>SWE</td>\n",
              "      <td>0.0</td>\n",
              "      <td>55</td>\n",
              "      <td>0</td>\n",
              "      <td>0.0</td>\n",
              "      <td>0.0</td>\n",
              "      <td>0.0</td>\n",
              "      <td>0.0</td>\n",
              "      <td>0.0</td>\n",
              "      <td>0.0</td>\n",
              "      <td>0.0</td>\n",
              "      <td>0.0</td>\n",
              "      <td>UEFA</td>\n",
              "      <td>1993-08-08</td>\n",
              "      <td>1875-03-06</td>\n",
              "      <td>England</td>\n",
              "      <td>Scotland</td>\n",
              "      <td>2.0</td>\n",
              "      <td>2.0</td>\n",
              "      <td>Friendly</td>\n",
              "      <td>London</td>\n",
              "      <td>England</td>\n",
              "      <td>False</td>\n",
              "    </tr>\n",
              "    <tr>\n",
              "      <th>4</th>\n",
              "      <td>5</td>\n",
              "      <td>Argentina</td>\n",
              "      <td>ARG</td>\n",
              "      <td>0.0</td>\n",
              "      <td>51</td>\n",
              "      <td>5</td>\n",
              "      <td>0.0</td>\n",
              "      <td>0.0</td>\n",
              "      <td>0.0</td>\n",
              "      <td>0.0</td>\n",
              "      <td>0.0</td>\n",
              "      <td>0.0</td>\n",
              "      <td>0.0</td>\n",
              "      <td>0.0</td>\n",
              "      <td>CONMEBOL</td>\n",
              "      <td>1993-08-08</td>\n",
              "      <td>1876-03-04</td>\n",
              "      <td>Scotland</td>\n",
              "      <td>England</td>\n",
              "      <td>3.0</td>\n",
              "      <td>0.0</td>\n",
              "      <td>Friendly</td>\n",
              "      <td>Glasgow</td>\n",
              "      <td>Scotland</td>\n",
              "      <td>False</td>\n",
              "    </tr>\n",
              "  </tbody>\n",
              "</table>\n",
              "</div>"
            ],
            "text/plain": [
              "   rank      country country_abrv  ...     city   country  neutral\n",
              "0     1      Germany          GER  ...  Glasgow  Scotland    False\n",
              "1     2        Italy          ITA  ...   London   England    False\n",
              "2     3  Switzerland          SUI  ...  Glasgow  Scotland    False\n",
              "3     4       Sweden          SWE  ...   London   England    False\n",
              "4     5    Argentina          ARG  ...  Glasgow  Scotland    False\n",
              "\n",
              "[5 rows x 25 columns]"
            ]
          },
          "metadata": {
            "tags": []
          },
          "execution_count": 17
        }
      ]
    },
    {
      "cell_type": "code",
      "metadata": {
        "id": "vhLnD0jvYMrp"
      },
      "source": [
        "Fifa_results.drop([\"country\",\"country_abrv\"], axis=1, inplace=True)"
      ],
      "execution_count": null,
      "outputs": []
    },
    {
      "cell_type": "markdown",
      "metadata": {
        "id": "mmVu667oPOWU"
      },
      "source": [
        "#5.0 Data Preparation"
      ]
    },
    {
      "cell_type": "markdown",
      "metadata": {
        "id": "hi2Fa_U3PVoA"
      },
      "source": [
        "###Checking for null values"
      ]
    },
    {
      "cell_type": "code",
      "metadata": {
        "colab": {
          "base_uri": "https://localhost:8080/"
        },
        "id": "pw1YFgCeOlcZ",
        "outputId": "c46c5810-836f-434a-9e90-bac130ce70fe"
      },
      "source": [
        "Fifa_results.isnull().any()"
      ],
      "execution_count": null,
      "outputs": [
        {
          "output_type": "execute_result",
          "data": {
            "text/plain": [
              "rank                       False\n",
              "total_points               False\n",
              "previous_points            False\n",
              "rank_change                False\n",
              "cur_year_avg               False\n",
              "cur_year_avg_weighted      False\n",
              "last_year_avg              False\n",
              "last_year_avg_weighted     False\n",
              "two_year_ago_avg           False\n",
              "two_year_ago_weighted      False\n",
              "three_year_ago_avg         False\n",
              "three_year_ago_weighted    False\n",
              "confederation              False\n",
              "rank_date                  False\n",
              "date                        True\n",
              "home_team                   True\n",
              "away_team                   True\n",
              "home_score                  True\n",
              "away_score                  True\n",
              "tournament                  True\n",
              "city                        True\n",
              "neutral                     True\n",
              "dtype: bool"
            ]
          },
          "metadata": {
            "tags": []
          },
          "execution_count": 19
        }
      ]
    },
    {
      "cell_type": "code",
      "metadata": {
        "colab": {
          "base_uri": "https://localhost:8080/"
        },
        "id": "s2phScGoPg9v",
        "outputId": "c70d17c9-6804-401a-c599-ac25cb756f92"
      },
      "source": [
        "Fifa_results.isnull().sum()"
      ],
      "execution_count": null,
      "outputs": [
        {
          "output_type": "execute_result",
          "data": {
            "text/plain": [
              "rank                           0\n",
              "total_points                   0\n",
              "previous_points                0\n",
              "rank_change                    0\n",
              "cur_year_avg                   0\n",
              "cur_year_avg_weighted          0\n",
              "last_year_avg                  0\n",
              "last_year_avg_weighted         0\n",
              "two_year_ago_avg               0\n",
              "two_year_ago_weighted          0\n",
              "three_year_ago_avg             0\n",
              "three_year_ago_weighted        0\n",
              "confederation                  0\n",
              "rank_date                      0\n",
              "date                       16954\n",
              "home_team                  16954\n",
              "away_team                  16954\n",
              "home_score                 16954\n",
              "away_score                 16954\n",
              "tournament                 16954\n",
              "city                       16954\n",
              "neutral                    16954\n",
              "dtype: int64"
            ]
          },
          "metadata": {
            "tags": []
          },
          "execution_count": 20
        }
      ]
    },
    {
      "cell_type": "code",
      "metadata": {
        "id": "MGgHDkRBPu3A",
        "colab": {
          "base_uri": "https://localhost:8080/"
        },
        "outputId": "e3c9f857-4735-4cf3-b3aa-eb3d1eb5e5de"
      },
      "source": [
        "Fifa_results.dtypes"
      ],
      "execution_count": null,
      "outputs": [
        {
          "output_type": "execute_result",
          "data": {
            "text/plain": [
              "rank                         int64\n",
              "total_points               float64\n",
              "previous_points              int64\n",
              "rank_change                  int64\n",
              "cur_year_avg               float64\n",
              "cur_year_avg_weighted      float64\n",
              "last_year_avg              float64\n",
              "last_year_avg_weighted     float64\n",
              "two_year_ago_avg           float64\n",
              "two_year_ago_weighted      float64\n",
              "three_year_ago_avg         float64\n",
              "three_year_ago_weighted    float64\n",
              "confederation               object\n",
              "rank_date                   object\n",
              "date                        object\n",
              "home_team                   object\n",
              "away_team                   object\n",
              "home_score                 float64\n",
              "away_score                 float64\n",
              "tournament                  object\n",
              "city                        object\n",
              "neutral                     object\n",
              "dtype: object"
            ]
          },
          "metadata": {
            "tags": []
          },
          "execution_count": 21
        }
      ]
    },
    {
      "cell_type": "code",
      "metadata": {
        "colab": {
          "base_uri": "https://localhost:8080/",
          "height": 405
        },
        "id": "4bSPIOoyXR9x",
        "outputId": "00dfdf65-edce-448a-c213-03d42d6aee27"
      },
      "source": [
        "import seaborn as sb\n",
        "sb.heatmap(Fifa_results.corr()) "
      ],
      "execution_count": null,
      "outputs": [
        {
          "output_type": "execute_result",
          "data": {
            "text/plain": [
              "<matplotlib.axes._subplots.AxesSubplot at 0x7f309d1a63d0>"
            ]
          },
          "metadata": {
            "tags": []
          },
          "execution_count": 22
        },
        {
          "output_type": "display_data",
          "data": {
            "image/png": "[encoded data removed]",
            "text/plain": [
              "<Figure size 432x288 with 2 Axes>"
            ]
          },
          "metadata": {
            "tags": [],
            "needs_background": "light"
          }
        }
      ]
    },
    {
      "cell_type": "code",
      "metadata": {
        "colab": {
          "base_uri": "https://localhost:8080/",
          "height": 317
        },
        "id": "z28KTFdtQCPH",
        "outputId": "2855062c-3675-4f55-f379-557d8732a30a"
      },
      "source": [
        "Fifa_results.describe()"
      ],
      "execution_count": null,
      "outputs": [
        {
          "output_type": "execute_result",
          "data": {
            "text/html": [
              "<div>\n",
              "<style scoped>\n",
              "    .dataframe tbody tr th:only-of-type {\n",
              "        vertical-align: middle;\n",
              "    }\n",
              "\n",
              "    .dataframe tbody tr th {\n",
              "        vertical-align: top;\n",
              "    }\n",
              "\n",
              "    .dataframe thead th {\n",
              "        text-align: right;\n",
              "    }\n",
              "</style>\n",
              "<table border=\"1\" class=\"dataframe\">\n",
              "  <thead>\n",
              "    <tr style=\"text-align: right;\">\n",
              "      <th></th>\n",
              "      <th>rank</th>\n",
              "      <th>total_points</th>\n",
              "      <th>previous_points</th>\n",
              "      <th>rank_change</th>\n",
              "      <th>cur_year_avg</th>\n",
              "      <th>cur_year_avg_weighted</th>\n",
              "      <th>last_year_avg</th>\n",
              "      <th>last_year_avg_weighted</th>\n",
              "      <th>two_year_ago_avg</th>\n",
              "      <th>two_year_ago_weighted</th>\n",
              "      <th>three_year_ago_avg</th>\n",
              "      <th>three_year_ago_weighted</th>\n",
              "      <th>home_score</th>\n",
              "      <th>away_score</th>\n",
              "    </tr>\n",
              "  </thead>\n",
              "  <tbody>\n",
              "    <tr>\n",
              "      <th>count</th>\n",
              "      <td>57793.000000</td>\n",
              "      <td>57793.000000</td>\n",
              "      <td>57793.000000</td>\n",
              "      <td>57793.000000</td>\n",
              "      <td>57793.000000</td>\n",
              "      <td>57793.000000</td>\n",
              "      <td>57793.000000</td>\n",
              "      <td>57793.000000</td>\n",
              "      <td>57793.000000</td>\n",
              "      <td>57793.000000</td>\n",
              "      <td>57793.000000</td>\n",
              "      <td>57793.000000</td>\n",
              "      <td>40839.000000</td>\n",
              "      <td>40839.000000</td>\n",
              "    </tr>\n",
              "    <tr>\n",
              "      <th>mean</th>\n",
              "      <td>101.628086</td>\n",
              "      <td>122.068637</td>\n",
              "      <td>332.302926</td>\n",
              "      <td>-0.009897</td>\n",
              "      <td>61.798602</td>\n",
              "      <td>61.798602</td>\n",
              "      <td>61.004602</td>\n",
              "      <td>30.502377</td>\n",
              "      <td>59.777462</td>\n",
              "      <td>17.933277</td>\n",
              "      <td>59.173916</td>\n",
              "      <td>11.834811</td>\n",
              "      <td>1.745709</td>\n",
              "      <td>1.188105</td>\n",
              "    </tr>\n",
              "    <tr>\n",
              "      <th>std</th>\n",
              "      <td>58.618424</td>\n",
              "      <td>260.426863</td>\n",
              "      <td>302.872948</td>\n",
              "      <td>5.804309</td>\n",
              "      <td>138.014883</td>\n",
              "      <td>138.014883</td>\n",
              "      <td>137.688204</td>\n",
              "      <td>68.844143</td>\n",
              "      <td>136.296079</td>\n",
              "      <td>40.888849</td>\n",
              "      <td>135.533343</td>\n",
              "      <td>27.106675</td>\n",
              "      <td>1.749145</td>\n",
              "      <td>1.405120</td>\n",
              "    </tr>\n",
              "    <tr>\n",
              "      <th>min</th>\n",
              "      <td>1.000000</td>\n",
              "      <td>0.000000</td>\n",
              "      <td>0.000000</td>\n",
              "      <td>-72.000000</td>\n",
              "      <td>0.000000</td>\n",
              "      <td>0.000000</td>\n",
              "      <td>0.000000</td>\n",
              "      <td>0.000000</td>\n",
              "      <td>0.000000</td>\n",
              "      <td>0.000000</td>\n",
              "      <td>0.000000</td>\n",
              "      <td>0.000000</td>\n",
              "      <td>0.000000</td>\n",
              "      <td>0.000000</td>\n",
              "    </tr>\n",
              "    <tr>\n",
              "      <th>25%</th>\n",
              "      <td>51.000000</td>\n",
              "      <td>0.000000</td>\n",
              "      <td>56.000000</td>\n",
              "      <td>-2.000000</td>\n",
              "      <td>0.000000</td>\n",
              "      <td>0.000000</td>\n",
              "      <td>0.000000</td>\n",
              "      <td>0.000000</td>\n",
              "      <td>0.000000</td>\n",
              "      <td>0.000000</td>\n",
              "      <td>0.000000</td>\n",
              "      <td>0.000000</td>\n",
              "      <td>1.000000</td>\n",
              "      <td>0.000000</td>\n",
              "    </tr>\n",
              "    <tr>\n",
              "      <th>50%</th>\n",
              "      <td>101.000000</td>\n",
              "      <td>0.000000</td>\n",
              "      <td>272.000000</td>\n",
              "      <td>0.000000</td>\n",
              "      <td>0.000000</td>\n",
              "      <td>0.000000</td>\n",
              "      <td>0.000000</td>\n",
              "      <td>0.000000</td>\n",
              "      <td>0.000000</td>\n",
              "      <td>0.000000</td>\n",
              "      <td>0.000000</td>\n",
              "      <td>0.000000</td>\n",
              "      <td>1.000000</td>\n",
              "      <td>1.000000</td>\n",
              "    </tr>\n",
              "    <tr>\n",
              "      <th>75%</th>\n",
              "      <td>152.000000</td>\n",
              "      <td>92.790000</td>\n",
              "      <td>525.000000</td>\n",
              "      <td>1.000000</td>\n",
              "      <td>32.250000</td>\n",
              "      <td>32.250000</td>\n",
              "      <td>26.660000</td>\n",
              "      <td>13.330000</td>\n",
              "      <td>21.500000</td>\n",
              "      <td>6.450000</td>\n",
              "      <td>21.250000</td>\n",
              "      <td>4.250000</td>\n",
              "      <td>2.000000</td>\n",
              "      <td>2.000000</td>\n",
              "    </tr>\n",
              "    <tr>\n",
              "      <th>max</th>\n",
              "      <td>209.000000</td>\n",
              "      <td>1775.030000</td>\n",
              "      <td>1920.000000</td>\n",
              "      <td>92.000000</td>\n",
              "      <td>1158.660000</td>\n",
              "      <td>1158.660000</td>\n",
              "      <td>1169.570000</td>\n",
              "      <td>584.790000</td>\n",
              "      <td>1159.710000</td>\n",
              "      <td>347.910000</td>\n",
              "      <td>1200.770000</td>\n",
              "      <td>240.150000</td>\n",
              "      <td>31.000000</td>\n",
              "      <td>21.000000</td>\n",
              "    </tr>\n",
              "  </tbody>\n",
              "</table>\n",
              "</div>"
            ],
            "text/plain": [
              "               rank  total_points  ...    home_score    away_score\n",
              "count  57793.000000  57793.000000  ...  40839.000000  40839.000000\n",
              "mean     101.628086    122.068637  ...      1.745709      1.188105\n",
              "std       58.618424    260.426863  ...      1.749145      1.405120\n",
              "min        1.000000      0.000000  ...      0.000000      0.000000\n",
              "25%       51.000000      0.000000  ...      1.000000      0.000000\n",
              "50%      101.000000      0.000000  ...      1.000000      1.000000\n",
              "75%      152.000000     92.790000  ...      2.000000      2.000000\n",
              "max      209.000000   1775.030000  ...     31.000000     21.000000\n",
              "\n",
              "[8 rows x 14 columns]"
            ]
          },
          "metadata": {
            "tags": []
          },
          "execution_count": 23
        }
      ]
    },
    {
      "cell_type": "markdown",
      "metadata": {
        "id": "6bK43HOe_hC3"
      },
      "source": [
        "###Checking for duplicates"
      ]
    },
    {
      "cell_type": "code",
      "metadata": {
        "colab": {
          "base_uri": "https://localhost:8080/"
        },
        "id": "tVnh16Gk_wa9",
        "outputId": "29925dad-329d-4fd4-b1fa-73c21f6f9479"
      },
      "source": [
        "# Checking if our data contains any duplicate values\n",
        "Fifa_results.duplicated().sum()"
      ],
      "execution_count": null,
      "outputs": [
        {
          "output_type": "execute_result",
          "data": {
            "text/plain": [
              "214"
            ]
          },
          "metadata": {
            "tags": []
          },
          "execution_count": 24
        }
      ]
    },
    {
      "cell_type": "code",
      "metadata": {
        "id": "EJFTzRwVdnSs",
        "colab": {
          "base_uri": "https://localhost:8080/",
          "height": 609
        },
        "outputId": "628c384c-61d8-4fd9-9e8c-0faefeed0bf1"
      },
      "source": [
        "#droping the duplicates inour data\n",
        "Fifa_results.drop_duplicates()"
      ],
      "execution_count": null,
      "outputs": [
        {
          "output_type": "execute_result",
          "data": {
            "text/html": [
              "<div>\n",
              "<style scoped>\n",
              "    .dataframe tbody tr th:only-of-type {\n",
              "        vertical-align: middle;\n",
              "    }\n",
              "\n",
              "    .dataframe tbody tr th {\n",
              "        vertical-align: top;\n",
              "    }\n",
              "\n",
              "    .dataframe thead th {\n",
              "        text-align: right;\n",
              "    }\n",
              "</style>\n",
              "<table border=\"1\" class=\"dataframe\">\n",
              "  <thead>\n",
              "    <tr style=\"text-align: right;\">\n",
              "      <th></th>\n",
              "      <th>rank</th>\n",
              "      <th>total_points</th>\n",
              "      <th>previous_points</th>\n",
              "      <th>rank_change</th>\n",
              "      <th>cur_year_avg</th>\n",
              "      <th>cur_year_avg_weighted</th>\n",
              "      <th>last_year_avg</th>\n",
              "      <th>last_year_avg_weighted</th>\n",
              "      <th>two_year_ago_avg</th>\n",
              "      <th>two_year_ago_weighted</th>\n",
              "      <th>three_year_ago_avg</th>\n",
              "      <th>three_year_ago_weighted</th>\n",
              "      <th>confederation</th>\n",
              "      <th>rank_date</th>\n",
              "      <th>date</th>\n",
              "      <th>home_team</th>\n",
              "      <th>away_team</th>\n",
              "      <th>home_score</th>\n",
              "      <th>away_score</th>\n",
              "      <th>tournament</th>\n",
              "      <th>city</th>\n",
              "      <th>neutral</th>\n",
              "    </tr>\n",
              "  </thead>\n",
              "  <tbody>\n",
              "    <tr>\n",
              "      <th>0</th>\n",
              "      <td>1</td>\n",
              "      <td>0.00</td>\n",
              "      <td>57</td>\n",
              "      <td>0</td>\n",
              "      <td>0.0</td>\n",
              "      <td>0.0</td>\n",
              "      <td>0.0</td>\n",
              "      <td>0.0</td>\n",
              "      <td>0.0</td>\n",
              "      <td>0.0</td>\n",
              "      <td>0.00</td>\n",
              "      <td>0.00</td>\n",
              "      <td>UEFA</td>\n",
              "      <td>1993-08-08</td>\n",
              "      <td>1872-11-30</td>\n",
              "      <td>Scotland</td>\n",
              "      <td>England</td>\n",
              "      <td>0.0</td>\n",
              "      <td>0.0</td>\n",
              "      <td>Friendly</td>\n",
              "      <td>Glasgow</td>\n",
              "      <td>False</td>\n",
              "    </tr>\n",
              "    <tr>\n",
              "      <th>1</th>\n",
              "      <td>2</td>\n",
              "      <td>0.00</td>\n",
              "      <td>57</td>\n",
              "      <td>0</td>\n",
              "      <td>0.0</td>\n",
              "      <td>0.0</td>\n",
              "      <td>0.0</td>\n",
              "      <td>0.0</td>\n",
              "      <td>0.0</td>\n",
              "      <td>0.0</td>\n",
              "      <td>0.00</td>\n",
              "      <td>0.00</td>\n",
              "      <td>UEFA</td>\n",
              "      <td>1993-08-08</td>\n",
              "      <td>1873-03-08</td>\n",
              "      <td>England</td>\n",
              "      <td>Scotland</td>\n",
              "      <td>4.0</td>\n",
              "      <td>2.0</td>\n",
              "      <td>Friendly</td>\n",
              "      <td>London</td>\n",
              "      <td>False</td>\n",
              "    </tr>\n",
              "    <tr>\n",
              "      <th>2</th>\n",
              "      <td>3</td>\n",
              "      <td>0.00</td>\n",
              "      <td>50</td>\n",
              "      <td>9</td>\n",
              "      <td>0.0</td>\n",
              "      <td>0.0</td>\n",
              "      <td>0.0</td>\n",
              "      <td>0.0</td>\n",
              "      <td>0.0</td>\n",
              "      <td>0.0</td>\n",
              "      <td>0.00</td>\n",
              "      <td>0.00</td>\n",
              "      <td>UEFA</td>\n",
              "      <td>1993-08-08</td>\n",
              "      <td>1874-03-07</td>\n",
              "      <td>Scotland</td>\n",
              "      <td>England</td>\n",
              "      <td>2.0</td>\n",
              "      <td>1.0</td>\n",
              "      <td>Friendly</td>\n",
              "      <td>Glasgow</td>\n",
              "      <td>False</td>\n",
              "    </tr>\n",
              "    <tr>\n",
              "      <th>3</th>\n",
              "      <td>4</td>\n",
              "      <td>0.00</td>\n",
              "      <td>55</td>\n",
              "      <td>0</td>\n",
              "      <td>0.0</td>\n",
              "      <td>0.0</td>\n",
              "      <td>0.0</td>\n",
              "      <td>0.0</td>\n",
              "      <td>0.0</td>\n",
              "      <td>0.0</td>\n",
              "      <td>0.00</td>\n",
              "      <td>0.00</td>\n",
              "      <td>UEFA</td>\n",
              "      <td>1993-08-08</td>\n",
              "      <td>1875-03-06</td>\n",
              "      <td>England</td>\n",
              "      <td>Scotland</td>\n",
              "      <td>2.0</td>\n",
              "      <td>2.0</td>\n",
              "      <td>Friendly</td>\n",
              "      <td>London</td>\n",
              "      <td>False</td>\n",
              "    </tr>\n",
              "    <tr>\n",
              "      <th>4</th>\n",
              "      <td>5</td>\n",
              "      <td>0.00</td>\n",
              "      <td>51</td>\n",
              "      <td>5</td>\n",
              "      <td>0.0</td>\n",
              "      <td>0.0</td>\n",
              "      <td>0.0</td>\n",
              "      <td>0.0</td>\n",
              "      <td>0.0</td>\n",
              "      <td>0.0</td>\n",
              "      <td>0.00</td>\n",
              "      <td>0.00</td>\n",
              "      <td>CONMEBOL</td>\n",
              "      <td>1993-08-08</td>\n",
              "      <td>1876-03-04</td>\n",
              "      <td>Scotland</td>\n",
              "      <td>England</td>\n",
              "      <td>3.0</td>\n",
              "      <td>0.0</td>\n",
              "      <td>Friendly</td>\n",
              "      <td>Glasgow</td>\n",
              "      <td>False</td>\n",
              "    </tr>\n",
              "    <tr>\n",
              "      <th>...</th>\n",
              "      <td>...</td>\n",
              "      <td>...</td>\n",
              "      <td>...</td>\n",
              "      <td>...</td>\n",
              "      <td>...</td>\n",
              "      <td>...</td>\n",
              "      <td>...</td>\n",
              "      <td>...</td>\n",
              "      <td>...</td>\n",
              "      <td>...</td>\n",
              "      <td>...</td>\n",
              "      <td>...</td>\n",
              "      <td>...</td>\n",
              "      <td>...</td>\n",
              "      <td>...</td>\n",
              "      <td>...</td>\n",
              "      <td>...</td>\n",
              "      <td>...</td>\n",
              "      <td>...</td>\n",
              "      <td>...</td>\n",
              "      <td>...</td>\n",
              "      <td>...</td>\n",
              "    </tr>\n",
              "    <tr>\n",
              "      <th>57786</th>\n",
              "      <td>204</td>\n",
              "      <td>4.25</td>\n",
              "      <td>17</td>\n",
              "      <td>-4</td>\n",
              "      <td>0.0</td>\n",
              "      <td>0.0</td>\n",
              "      <td>0.0</td>\n",
              "      <td>0.0</td>\n",
              "      <td>0.0</td>\n",
              "      <td>0.0</td>\n",
              "      <td>21.25</td>\n",
              "      <td>4.25</td>\n",
              "      <td>CONCACAF</td>\n",
              "      <td>2018-06-07</td>\n",
              "      <td>NaN</td>\n",
              "      <td>NaN</td>\n",
              "      <td>NaN</td>\n",
              "      <td>NaN</td>\n",
              "      <td>NaN</td>\n",
              "      <td>NaN</td>\n",
              "      <td>NaN</td>\n",
              "      <td>NaN</td>\n",
              "    </tr>\n",
              "    <tr>\n",
              "      <th>57787</th>\n",
              "      <td>206</td>\n",
              "      <td>0.00</td>\n",
              "      <td>13</td>\n",
              "      <td>-4</td>\n",
              "      <td>0.0</td>\n",
              "      <td>0.0</td>\n",
              "      <td>0.0</td>\n",
              "      <td>0.0</td>\n",
              "      <td>0.0</td>\n",
              "      <td>0.0</td>\n",
              "      <td>0.00</td>\n",
              "      <td>0.00</td>\n",
              "      <td>CONCACAF</td>\n",
              "      <td>2018-06-07</td>\n",
              "      <td>NaN</td>\n",
              "      <td>NaN</td>\n",
              "      <td>NaN</td>\n",
              "      <td>NaN</td>\n",
              "      <td>NaN</td>\n",
              "      <td>NaN</td>\n",
              "      <td>NaN</td>\n",
              "      <td>NaN</td>\n",
              "    </tr>\n",
              "    <tr>\n",
              "      <th>57788</th>\n",
              "      <td>206</td>\n",
              "      <td>0.00</td>\n",
              "      <td>0</td>\n",
              "      <td>1</td>\n",
              "      <td>0.0</td>\n",
              "      <td>0.0</td>\n",
              "      <td>0.0</td>\n",
              "      <td>0.0</td>\n",
              "      <td>0.0</td>\n",
              "      <td>0.0</td>\n",
              "      <td>0.00</td>\n",
              "      <td>0.00</td>\n",
              "      <td>CONCACAF</td>\n",
              "      <td>2018-06-07</td>\n",
              "      <td>NaN</td>\n",
              "      <td>NaN</td>\n",
              "      <td>NaN</td>\n",
              "      <td>NaN</td>\n",
              "      <td>NaN</td>\n",
              "      <td>NaN</td>\n",
              "      <td>NaN</td>\n",
              "      <td>NaN</td>\n",
              "    </tr>\n",
              "    <tr>\n",
              "      <th>57790</th>\n",
              "      <td>206</td>\n",
              "      <td>0.00</td>\n",
              "      <td>0</td>\n",
              "      <td>1</td>\n",
              "      <td>0.0</td>\n",
              "      <td>0.0</td>\n",
              "      <td>0.0</td>\n",
              "      <td>0.0</td>\n",
              "      <td>0.0</td>\n",
              "      <td>0.0</td>\n",
              "      <td>0.00</td>\n",
              "      <td>0.00</td>\n",
              "      <td>CAF</td>\n",
              "      <td>2018-06-07</td>\n",
              "      <td>NaN</td>\n",
              "      <td>NaN</td>\n",
              "      <td>NaN</td>\n",
              "      <td>NaN</td>\n",
              "      <td>NaN</td>\n",
              "      <td>NaN</td>\n",
              "      <td>NaN</td>\n",
              "      <td>NaN</td>\n",
              "    </tr>\n",
              "    <tr>\n",
              "      <th>57792</th>\n",
              "      <td>206</td>\n",
              "      <td>0.00</td>\n",
              "      <td>0</td>\n",
              "      <td>1</td>\n",
              "      <td>0.0</td>\n",
              "      <td>0.0</td>\n",
              "      <td>0.0</td>\n",
              "      <td>0.0</td>\n",
              "      <td>0.0</td>\n",
              "      <td>0.0</td>\n",
              "      <td>0.00</td>\n",
              "      <td>0.00</td>\n",
              "      <td>OFC</td>\n",
              "      <td>2018-06-07</td>\n",
              "      <td>NaN</td>\n",
              "      <td>NaN</td>\n",
              "      <td>NaN</td>\n",
              "      <td>NaN</td>\n",
              "      <td>NaN</td>\n",
              "      <td>NaN</td>\n",
              "      <td>NaN</td>\n",
              "      <td>NaN</td>\n",
              "    </tr>\n",
              "  </tbody>\n",
              "</table>\n",
              "<p>57579 rows × 22 columns</p>\n",
              "</div>"
            ],
            "text/plain": [
              "       rank  total_points  previous_points  ...  tournament     city  neutral\n",
              "0         1          0.00               57  ...    Friendly  Glasgow    False\n",
              "1         2          0.00               57  ...    Friendly   London    False\n",
              "2         3          0.00               50  ...    Friendly  Glasgow    False\n",
              "3         4          0.00               55  ...    Friendly   London    False\n",
              "4         5          0.00               51  ...    Friendly  Glasgow    False\n",
              "...     ...           ...              ...  ...         ...      ...      ...\n",
              "57786   204          4.25               17  ...         NaN      NaN      NaN\n",
              "57787   206          0.00               13  ...         NaN      NaN      NaN\n",
              "57788   206          0.00                0  ...         NaN      NaN      NaN\n",
              "57790   206          0.00                0  ...         NaN      NaN      NaN\n",
              "57792   206          0.00                0  ...         NaN      NaN      NaN\n",
              "\n",
              "[57579 rows x 22 columns]"
            ]
          },
          "metadata": {
            "tags": []
          },
          "execution_count": 25
        }
      ]
    },
    {
      "cell_type": "code",
      "metadata": {
        "id": "_eJFmdyYfI8I",
        "colab": {
          "base_uri": "https://localhost:8080/",
          "height": 626
        },
        "outputId": "301bbd40-b0ca-4431-f0bb-ce6018ac0687"
      },
      "source": [
        "#droping null values in our data\n",
        "Fifa_results.dropna()"
      ],
      "execution_count": null,
      "outputs": [
        {
          "output_type": "execute_result",
          "data": {
            "text/html": [
              "<div>\n",
              "<style scoped>\n",
              "    .dataframe tbody tr th:only-of-type {\n",
              "        vertical-align: middle;\n",
              "    }\n",
              "\n",
              "    .dataframe tbody tr th {\n",
              "        vertical-align: top;\n",
              "    }\n",
              "\n",
              "    .dataframe thead th {\n",
              "        text-align: right;\n",
              "    }\n",
              "</style>\n",
              "<table border=\"1\" class=\"dataframe\">\n",
              "  <thead>\n",
              "    <tr style=\"text-align: right;\">\n",
              "      <th></th>\n",
              "      <th>rank</th>\n",
              "      <th>total_points</th>\n",
              "      <th>previous_points</th>\n",
              "      <th>rank_change</th>\n",
              "      <th>cur_year_avg</th>\n",
              "      <th>cur_year_avg_weighted</th>\n",
              "      <th>last_year_avg</th>\n",
              "      <th>last_year_avg_weighted</th>\n",
              "      <th>two_year_ago_avg</th>\n",
              "      <th>two_year_ago_weighted</th>\n",
              "      <th>three_year_ago_avg</th>\n",
              "      <th>three_year_ago_weighted</th>\n",
              "      <th>confederation</th>\n",
              "      <th>rank_date</th>\n",
              "      <th>date</th>\n",
              "      <th>home_team</th>\n",
              "      <th>away_team</th>\n",
              "      <th>home_score</th>\n",
              "      <th>away_score</th>\n",
              "      <th>tournament</th>\n",
              "      <th>city</th>\n",
              "      <th>neutral</th>\n",
              "    </tr>\n",
              "  </thead>\n",
              "  <tbody>\n",
              "    <tr>\n",
              "      <th>0</th>\n",
              "      <td>1</td>\n",
              "      <td>0.00</td>\n",
              "      <td>57</td>\n",
              "      <td>0</td>\n",
              "      <td>0.00</td>\n",
              "      <td>0.00</td>\n",
              "      <td>0.00</td>\n",
              "      <td>0.00</td>\n",
              "      <td>0.00</td>\n",
              "      <td>0.00</td>\n",
              "      <td>0.00</td>\n",
              "      <td>0.00</td>\n",
              "      <td>UEFA</td>\n",
              "      <td>1993-08-08</td>\n",
              "      <td>1872-11-30</td>\n",
              "      <td>Scotland</td>\n",
              "      <td>England</td>\n",
              "      <td>0.0</td>\n",
              "      <td>0.0</td>\n",
              "      <td>Friendly</td>\n",
              "      <td>Glasgow</td>\n",
              "      <td>False</td>\n",
              "    </tr>\n",
              "    <tr>\n",
              "      <th>1</th>\n",
              "      <td>2</td>\n",
              "      <td>0.00</td>\n",
              "      <td>57</td>\n",
              "      <td>0</td>\n",
              "      <td>0.00</td>\n",
              "      <td>0.00</td>\n",
              "      <td>0.00</td>\n",
              "      <td>0.00</td>\n",
              "      <td>0.00</td>\n",
              "      <td>0.00</td>\n",
              "      <td>0.00</td>\n",
              "      <td>0.00</td>\n",
              "      <td>UEFA</td>\n",
              "      <td>1993-08-08</td>\n",
              "      <td>1873-03-08</td>\n",
              "      <td>England</td>\n",
              "      <td>Scotland</td>\n",
              "      <td>4.0</td>\n",
              "      <td>2.0</td>\n",
              "      <td>Friendly</td>\n",
              "      <td>London</td>\n",
              "      <td>False</td>\n",
              "    </tr>\n",
              "    <tr>\n",
              "      <th>2</th>\n",
              "      <td>3</td>\n",
              "      <td>0.00</td>\n",
              "      <td>50</td>\n",
              "      <td>9</td>\n",
              "      <td>0.00</td>\n",
              "      <td>0.00</td>\n",
              "      <td>0.00</td>\n",
              "      <td>0.00</td>\n",
              "      <td>0.00</td>\n",
              "      <td>0.00</td>\n",
              "      <td>0.00</td>\n",
              "      <td>0.00</td>\n",
              "      <td>UEFA</td>\n",
              "      <td>1993-08-08</td>\n",
              "      <td>1874-03-07</td>\n",
              "      <td>Scotland</td>\n",
              "      <td>England</td>\n",
              "      <td>2.0</td>\n",
              "      <td>1.0</td>\n",
              "      <td>Friendly</td>\n",
              "      <td>Glasgow</td>\n",
              "      <td>False</td>\n",
              "    </tr>\n",
              "    <tr>\n",
              "      <th>3</th>\n",
              "      <td>4</td>\n",
              "      <td>0.00</td>\n",
              "      <td>55</td>\n",
              "      <td>0</td>\n",
              "      <td>0.00</td>\n",
              "      <td>0.00</td>\n",
              "      <td>0.00</td>\n",
              "      <td>0.00</td>\n",
              "      <td>0.00</td>\n",
              "      <td>0.00</td>\n",
              "      <td>0.00</td>\n",
              "      <td>0.00</td>\n",
              "      <td>UEFA</td>\n",
              "      <td>1993-08-08</td>\n",
              "      <td>1875-03-06</td>\n",
              "      <td>England</td>\n",
              "      <td>Scotland</td>\n",
              "      <td>2.0</td>\n",
              "      <td>2.0</td>\n",
              "      <td>Friendly</td>\n",
              "      <td>London</td>\n",
              "      <td>False</td>\n",
              "    </tr>\n",
              "    <tr>\n",
              "      <th>4</th>\n",
              "      <td>5</td>\n",
              "      <td>0.00</td>\n",
              "      <td>51</td>\n",
              "      <td>5</td>\n",
              "      <td>0.00</td>\n",
              "      <td>0.00</td>\n",
              "      <td>0.00</td>\n",
              "      <td>0.00</td>\n",
              "      <td>0.00</td>\n",
              "      <td>0.00</td>\n",
              "      <td>0.00</td>\n",
              "      <td>0.00</td>\n",
              "      <td>CONMEBOL</td>\n",
              "      <td>1993-08-08</td>\n",
              "      <td>1876-03-04</td>\n",
              "      <td>Scotland</td>\n",
              "      <td>England</td>\n",
              "      <td>3.0</td>\n",
              "      <td>0.0</td>\n",
              "      <td>Friendly</td>\n",
              "      <td>Glasgow</td>\n",
              "      <td>False</td>\n",
              "    </tr>\n",
              "    <tr>\n",
              "      <th>...</th>\n",
              "      <td>...</td>\n",
              "      <td>...</td>\n",
              "      <td>...</td>\n",
              "      <td>...</td>\n",
              "      <td>...</td>\n",
              "      <td>...</td>\n",
              "      <td>...</td>\n",
              "      <td>...</td>\n",
              "      <td>...</td>\n",
              "      <td>...</td>\n",
              "      <td>...</td>\n",
              "      <td>...</td>\n",
              "      <td>...</td>\n",
              "      <td>...</td>\n",
              "      <td>...</td>\n",
              "      <td>...</td>\n",
              "      <td>...</td>\n",
              "      <td>...</td>\n",
              "      <td>...</td>\n",
              "      <td>...</td>\n",
              "      <td>...</td>\n",
              "      <td>...</td>\n",
              "    </tr>\n",
              "    <tr>\n",
              "      <th>40834</th>\n",
              "      <td>42</td>\n",
              "      <td>625.73</td>\n",
              "      <td>576</td>\n",
              "      <td>8</td>\n",
              "      <td>385.24</td>\n",
              "      <td>385.24</td>\n",
              "      <td>239.17</td>\n",
              "      <td>119.58</td>\n",
              "      <td>205.49</td>\n",
              "      <td>61.65</td>\n",
              "      <td>296.30</td>\n",
              "      <td>59.26</td>\n",
              "      <td>AFC</td>\n",
              "      <td>2011-10-19</td>\n",
              "      <td>2019-07-18</td>\n",
              "      <td>American Samoa</td>\n",
              "      <td>Tahiti</td>\n",
              "      <td>8.0</td>\n",
              "      <td>1.0</td>\n",
              "      <td>Pacific Games</td>\n",
              "      <td>Apia</td>\n",
              "      <td>True</td>\n",
              "    </tr>\n",
              "    <tr>\n",
              "      <th>40835</th>\n",
              "      <td>44</td>\n",
              "      <td>624.77</td>\n",
              "      <td>613</td>\n",
              "      <td>-1</td>\n",
              "      <td>256.15</td>\n",
              "      <td>256.15</td>\n",
              "      <td>363.51</td>\n",
              "      <td>181.76</td>\n",
              "      <td>335.93</td>\n",
              "      <td>100.78</td>\n",
              "      <td>430.39</td>\n",
              "      <td>86.08</td>\n",
              "      <td>CAF</td>\n",
              "      <td>2011-10-19</td>\n",
              "      <td>2019-07-18</td>\n",
              "      <td>Fiji</td>\n",
              "      <td>Solomon Islands</td>\n",
              "      <td>4.0</td>\n",
              "      <td>4.0</td>\n",
              "      <td>Pacific Games</td>\n",
              "      <td>Apia</td>\n",
              "      <td>True</td>\n",
              "    </tr>\n",
              "    <tr>\n",
              "      <th>40836</th>\n",
              "      <td>45</td>\n",
              "      <td>618.79</td>\n",
              "      <td>374</td>\n",
              "      <td>45</td>\n",
              "      <td>468.33</td>\n",
              "      <td>468.33</td>\n",
              "      <td>101.57</td>\n",
              "      <td>50.79</td>\n",
              "      <td>158.40</td>\n",
              "      <td>47.52</td>\n",
              "      <td>260.73</td>\n",
              "      <td>52.15</td>\n",
              "      <td>UEFA</td>\n",
              "      <td>2011-10-19</td>\n",
              "      <td>2019-07-19</td>\n",
              "      <td>Senegal</td>\n",
              "      <td>Algeria</td>\n",
              "      <td>0.0</td>\n",
              "      <td>1.0</td>\n",
              "      <td>African Cup of Nations</td>\n",
              "      <td>Cairo</td>\n",
              "      <td>True</td>\n",
              "    </tr>\n",
              "    <tr>\n",
              "      <th>40837</th>\n",
              "      <td>46</td>\n",
              "      <td>607.91</td>\n",
              "      <td>610</td>\n",
              "      <td>-2</td>\n",
              "      <td>367.81</td>\n",
              "      <td>367.81</td>\n",
              "      <td>340.59</td>\n",
              "      <td>170.30</td>\n",
              "      <td>163.50</td>\n",
              "      <td>49.05</td>\n",
              "      <td>103.75</td>\n",
              "      <td>20.75</td>\n",
              "      <td>UEFA</td>\n",
              "      <td>2011-10-19</td>\n",
              "      <td>2019-07-19</td>\n",
              "      <td>Tajikistan</td>\n",
              "      <td>North Korea</td>\n",
              "      <td>0.0</td>\n",
              "      <td>1.0</td>\n",
              "      <td>Intercontinental Cup</td>\n",
              "      <td>Ahmedabad</td>\n",
              "      <td>True</td>\n",
              "    </tr>\n",
              "    <tr>\n",
              "      <th>40838</th>\n",
              "      <td>47</td>\n",
              "      <td>599.98</td>\n",
              "      <td>596</td>\n",
              "      <td>1</td>\n",
              "      <td>239.19</td>\n",
              "      <td>239.19</td>\n",
              "      <td>216.18</td>\n",
              "      <td>108.09</td>\n",
              "      <td>454.18</td>\n",
              "      <td>136.25</td>\n",
              "      <td>582.25</td>\n",
              "      <td>116.45</td>\n",
              "      <td>CAF</td>\n",
              "      <td>2011-10-19</td>\n",
              "      <td>2019-07-20</td>\n",
              "      <td>Papua New Guinea</td>\n",
              "      <td>Fiji</td>\n",
              "      <td>1.0</td>\n",
              "      <td>1.0</td>\n",
              "      <td>Pacific Games</td>\n",
              "      <td>Apia</td>\n",
              "      <td>True</td>\n",
              "    </tr>\n",
              "  </tbody>\n",
              "</table>\n",
              "<p>40839 rows × 22 columns</p>\n",
              "</div>"
            ],
            "text/plain": [
              "       rank  total_points  ...       city  neutral\n",
              "0         1          0.00  ...    Glasgow    False\n",
              "1         2          0.00  ...     London    False\n",
              "2         3          0.00  ...    Glasgow    False\n",
              "3         4          0.00  ...     London    False\n",
              "4         5          0.00  ...    Glasgow    False\n",
              "...     ...           ...  ...        ...      ...\n",
              "40834    42        625.73  ...       Apia     True\n",
              "40835    44        624.77  ...       Apia     True\n",
              "40836    45        618.79  ...      Cairo     True\n",
              "40837    46        607.91  ...  Ahmedabad     True\n",
              "40838    47        599.98  ...       Apia     True\n",
              "\n",
              "[40839 rows x 22 columns]"
            ]
          },
          "metadata": {
            "tags": []
          },
          "execution_count": 26
        }
      ]
    },
    {
      "cell_type": "markdown",
      "metadata": {
        "id": "v3f6rLTO_mK5"
      },
      "source": [
        "checking for outliers"
      ]
    },
    {
      "cell_type": "code",
      "metadata": {
        "colab": {
          "base_uri": "https://localhost:8080/"
        },
        "id": "DVOjkB5DQ3Bb",
        "outputId": "7403513c-e40d-4f76-996e-62f83f7cd6f1"
      },
      "source": [
        "# Using the IQR formula\n",
        "Q1 = Fifa_results.quantile(0.25)\n",
        "Q3 = Fifa_results.quantile(0.75)\n",
        "IQR = Q3 - Q1\n",
        "((Fifa_results< (Q1 - 1.5 * IQR)) | (Fifa_results> (Q3 + 1.5 * IQR))).sum()"
      ],
      "execution_count": null,
      "outputs": [
        {
          "output_type": "execute_result",
          "data": {
            "text/plain": [
              "away_score                   570\n",
              "away_team                      0\n",
              "city                           0\n",
              "confederation                  0\n",
              "cur_year_avg               12195\n",
              "cur_year_avg_weighted      12195\n",
              "date                           0\n",
              "home_score                  5124\n",
              "home_team                      0\n",
              "last_year_avg              12674\n",
              "last_year_avg_weighted     12681\n",
              "neutral                        0\n",
              "previous_points              754\n",
              "rank                           0\n",
              "rank_change                 8359\n",
              "rank_date                      0\n",
              "three_year_ago_avg         12918\n",
              "three_year_ago_weighted    12918\n",
              "total_points               10952\n",
              "tournament                     0\n",
              "two_year_ago_avg           13047\n",
              "two_year_ago_weighted      13051\n",
              "dtype: int64"
            ]
          },
          "metadata": {
            "tags": []
          },
          "execution_count": 27
        }
      ]
    },
    {
      "cell_type": "markdown",
      "metadata": {
        "id": "TUksW46q_xcI"
      },
      "source": [
        "#6.0 Exploratory Analysis"
      ]
    },
    {
      "cell_type": "markdown",
      "metadata": {
        "id": "GkO3xjstFpbE"
      },
      "source": [
        "##categorical variables"
      ]
    },
    {
      "cell_type": "code",
      "metadata": {
        "id": "M0YKD23cPUc1",
        "colab": {
          "base_uri": "https://localhost:8080/"
        },
        "outputId": "6723fd21-99a8-4d72-882f-b6a9935e4148"
      },
      "source": [
        "Fifa_results['home_team'].value_counts()"
      ],
      "execution_count": null,
      "outputs": [
        {
          "output_type": "execute_result",
          "data": {
            "text/plain": [
              "Brazil                   563\n",
              "Argentina                545\n",
              "Mexico                   510\n",
              "Germany                  501\n",
              "England                  489\n",
              "                        ... \n",
              "Kabylia                    1\n",
              "Central Spain              1\n",
              "Romani people              1\n",
              "Saint Helena               1\n",
              "St. Pierre & Miquelon      1\n",
              "Name: home_team, Length: 309, dtype: int64"
            ]
          },
          "metadata": {
            "tags": []
          },
          "execution_count": 28
        }
      ]
    },
    {
      "cell_type": "code",
      "metadata": {
        "colab": {
          "base_uri": "https://localhost:8080/"
        },
        "id": "PpxICGbsFMeh",
        "outputId": "7d9ee802-662c-4d3c-c0a3-92d68f35699a"
      },
      "source": [
        "Fifa_results['away_team'].value_counts()"
      ],
      "execution_count": null,
      "outputs": [
        {
          "output_type": "execute_result",
          "data": {
            "text/plain": [
              "Uruguay               536\n",
              "Sweden                527\n",
              "England               505\n",
              "Hungary               472\n",
              "Paraguay              448\n",
              "                     ... \n",
              "Manchukuo               1\n",
              "Corsica                 1\n",
              "Andalusia               1\n",
              "Barawa                  1\n",
              "Parishes of Jersey      1\n",
              "Name: away_team, Length: 306, dtype: int64"
            ]
          },
          "metadata": {
            "tags": []
          },
          "execution_count": 29
        }
      ]
    },
    {
      "cell_type": "code",
      "metadata": {
        "colab": {
          "base_uri": "https://localhost:8080/"
        },
        "id": "m5kqHKFdFMaY",
        "outputId": "53990b71-6f2d-4241-bcf2-dff17ac0ed45"
      },
      "source": [
        "Fifa_results['neutral'].value_counts()"
      ],
      "execution_count": null,
      "outputs": [
        {
          "output_type": "execute_result",
          "data": {
            "text/plain": [
              "False    30680\n",
              "True     10159\n",
              "Name: neutral, dtype: int64"
            ]
          },
          "metadata": {
            "tags": []
          },
          "execution_count": 30
        }
      ]
    },
    {
      "cell_type": "code",
      "metadata": {
        "colab": {
          "base_uri": "https://localhost:8080/"
        },
        "id": "ZS6q54GIFMYd",
        "outputId": "30c5be15-705d-4077-d8e4-cddfbfb6d2c4"
      },
      "source": [
        "Fifa_results['neutral'].value_counts()"
      ],
      "execution_count": null,
      "outputs": [
        {
          "output_type": "execute_result",
          "data": {
            "text/plain": [
              "False    30680\n",
              "True     10159\n",
              "Name: neutral, dtype: int64"
            ]
          },
          "metadata": {
            "tags": []
          },
          "execution_count": 31
        }
      ]
    },
    {
      "cell_type": "code",
      "metadata": {
        "colab": {
          "base_uri": "https://localhost:8080/"
        },
        "id": "0t9isG9xe9pC",
        "outputId": "fa5e64a5-1db4-4abf-d5e9-9538e09070e5"
      },
      "source": [
        "Fifa_results.info()"
      ],
      "execution_count": null,
      "outputs": [
        {
          "output_type": "stream",
          "text": [
            "<class 'pandas.core.frame.DataFrame'>\n",
            "RangeIndex: 57793 entries, 0 to 57792\n",
            "Data columns (total 22 columns):\n",
            " #   Column                   Non-Null Count  Dtype  \n",
            "---  ------                   --------------  -----  \n",
            " 0   rank                     57793 non-null  int64  \n",
            " 1   total_points             57793 non-null  float64\n",
            " 2   previous_points          57793 non-null  int64  \n",
            " 3   rank_change              57793 non-null  int64  \n",
            " 4   cur_year_avg             57793 non-null  float64\n",
            " 5   cur_year_avg_weighted    57793 non-null  float64\n",
            " 6   last_year_avg            57793 non-null  float64\n",
            " 7   last_year_avg_weighted   57793 non-null  float64\n",
            " 8   two_year_ago_avg         57793 non-null  float64\n",
            " 9   two_year_ago_weighted    57793 non-null  float64\n",
            " 10  three_year_ago_avg       57793 non-null  float64\n",
            " 11  three_year_ago_weighted  57793 non-null  float64\n",
            " 12  confederation            57793 non-null  object \n",
            " 13  rank_date                57793 non-null  object \n",
            " 14  date                     40839 non-null  object \n",
            " 15  home_team                40839 non-null  object \n",
            " 16  away_team                40839 non-null  object \n",
            " 17  home_score               40839 non-null  float64\n",
            " 18  away_score               40839 non-null  float64\n",
            " 19  tournament               40839 non-null  object \n",
            " 20  city                     40839 non-null  object \n",
            " 21  neutral                  40839 non-null  object \n",
            "dtypes: float64(11), int64(3), object(8)\n",
            "memory usage: 9.7+ MB\n"
          ],
          "name": "stdout"
        }
      ]
    },
    {
      "cell_type": "code",
      "metadata": {
        "id": "vWU6FVhbeiGI"
      },
      "source": [
        "##creating a dataframe of home teams with their total goals scored\n",
        "total_goals_home=Fifa_results.groupby(\"home_team\")[\"home_score\"].sum().reset_index()\n",
        "#giving the dataframe column names\n",
        "total_goals_home.columns=[\"team\",\"goals\"]\n",
        "##creating a dataframe of home teams with their total goals scored\n",
        "total_goals_away=Fifa_results.groupby(\"away_team\")[\"away_score\"].sum().reset_index()\n",
        "#giving the dataframe column names\n",
        "total_goals_away.columns=[\"team\",\"goals\"]"
      ],
      "execution_count": null,
      "outputs": []
    },
    {
      "cell_type": "code",
      "metadata": {
        "colab": {
          "base_uri": "https://localhost:8080/",
          "height": 204
        },
        "id": "wx90lWmPgGGS",
        "outputId": "107763be-c59c-449d-9b69-cf707048fd7f"
      },
      "source": [
        "total_goals_home.head(5)"
      ],
      "execution_count": null,
      "outputs": [
        {
          "output_type": "execute_result",
          "data": {
            "text/html": [
              "<div>\n",
              "<style scoped>\n",
              "    .dataframe tbody tr th:only-of-type {\n",
              "        vertical-align: middle;\n",
              "    }\n",
              "\n",
              "    .dataframe tbody tr th {\n",
              "        vertical-align: top;\n",
              "    }\n",
              "\n",
              "    .dataframe thead th {\n",
              "        text-align: right;\n",
              "    }\n",
              "</style>\n",
              "<table border=\"1\" class=\"dataframe\">\n",
              "  <thead>\n",
              "    <tr style=\"text-align: right;\">\n",
              "      <th></th>\n",
              "      <th>team</th>\n",
              "      <th>goals</th>\n",
              "    </tr>\n",
              "  </thead>\n",
              "  <tbody>\n",
              "    <tr>\n",
              "      <th>0</th>\n",
              "      <td>Abkhazia</td>\n",
              "      <td>36.0</td>\n",
              "    </tr>\n",
              "    <tr>\n",
              "      <th>1</th>\n",
              "      <td>Afghanistan</td>\n",
              "      <td>49.0</td>\n",
              "    </tr>\n",
              "    <tr>\n",
              "      <th>2</th>\n",
              "      <td>Albania</td>\n",
              "      <td>189.0</td>\n",
              "    </tr>\n",
              "    <tr>\n",
              "      <th>3</th>\n",
              "      <td>Alderney</td>\n",
              "      <td>5.0</td>\n",
              "    </tr>\n",
              "    <tr>\n",
              "      <th>4</th>\n",
              "      <td>Algeria</td>\n",
              "      <td>508.0</td>\n",
              "    </tr>\n",
              "  </tbody>\n",
              "</table>\n",
              "</div>"
            ],
            "text/plain": [
              "          team  goals\n",
              "0     Abkhazia   36.0\n",
              "1  Afghanistan   49.0\n",
              "2      Albania  189.0\n",
              "3     Alderney    5.0\n",
              "4      Algeria  508.0"
            ]
          },
          "metadata": {
            "tags": []
          },
          "execution_count": 34
        }
      ]
    },
    {
      "cell_type": "code",
      "metadata": {
        "colab": {
          "base_uri": "https://localhost:8080/",
          "height": 204
        },
        "id": "lJzhNgs0gxLr",
        "outputId": "eec3c342-c04d-42e7-fa64-bb758f0c227e"
      },
      "source": [
        "total_goals_away.head(5)"
      ],
      "execution_count": null,
      "outputs": [
        {
          "output_type": "execute_result",
          "data": {
            "text/html": [
              "<div>\n",
              "<style scoped>\n",
              "    .dataframe tbody tr th:only-of-type {\n",
              "        vertical-align: middle;\n",
              "    }\n",
              "\n",
              "    .dataframe tbody tr th {\n",
              "        vertical-align: top;\n",
              "    }\n",
              "\n",
              "    .dataframe thead th {\n",
              "        text-align: right;\n",
              "    }\n",
              "</style>\n",
              "<table border=\"1\" class=\"dataframe\">\n",
              "  <thead>\n",
              "    <tr style=\"text-align: right;\">\n",
              "      <th></th>\n",
              "      <th>team</th>\n",
              "      <th>goals</th>\n",
              "    </tr>\n",
              "  </thead>\n",
              "  <tbody>\n",
              "    <tr>\n",
              "      <th>0</th>\n",
              "      <td>Abkhazia</td>\n",
              "      <td>12.0</td>\n",
              "    </tr>\n",
              "    <tr>\n",
              "      <th>1</th>\n",
              "      <td>Afghanistan</td>\n",
              "      <td>63.0</td>\n",
              "    </tr>\n",
              "    <tr>\n",
              "      <th>2</th>\n",
              "      <td>Albania</td>\n",
              "      <td>105.0</td>\n",
              "    </tr>\n",
              "    <tr>\n",
              "      <th>3</th>\n",
              "      <td>Alderney</td>\n",
              "      <td>10.0</td>\n",
              "    </tr>\n",
              "    <tr>\n",
              "      <th>4</th>\n",
              "      <td>Algeria</td>\n",
              "      <td>185.0</td>\n",
              "    </tr>\n",
              "  </tbody>\n",
              "</table>\n",
              "</div>"
            ],
            "text/plain": [
              "          team  goals\n",
              "0     Abkhazia   12.0\n",
              "1  Afghanistan   63.0\n",
              "2      Albania  105.0\n",
              "3     Alderney   10.0\n",
              "4      Algeria  185.0"
            ]
          },
          "metadata": {
            "tags": []
          },
          "execution_count": 35
        }
      ]
    },
    {
      "cell_type": "code",
      "metadata": {
        "colab": {
          "base_uri": "https://localhost:8080/"
        },
        "id": "-qEB0Aw6gN_A",
        "outputId": "8d6ebb5a-640c-473f-dfb6-b5b6d3cf1f1a"
      },
      "source": [
        "total_goals_home.shape"
      ],
      "execution_count": null,
      "outputs": [
        {
          "output_type": "execute_result",
          "data": {
            "text/plain": [
              "(309, 2)"
            ]
          },
          "metadata": {
            "tags": []
          },
          "execution_count": 36
        }
      ]
    },
    {
      "cell_type": "code",
      "metadata": {
        "id": "2O4Jvm5gg59F"
      },
      "source": [
        "total_goals=pd.concat([total_goals_home,total_goals_away])\n",
        "total_goals=total_goals.sort_values(by=\"goals\",ascending=False, inplace=True)\n"
      ],
      "execution_count": null,
      "outputs": []
    },
    {
      "cell_type": "code",
      "metadata": {
        "id": "KCs9ii4WiRC0"
      },
      "source": [
        "dataframe=pd.concat([total_goals_home,total_goals_away], join='inner', ignore_index=True)"
      ],
      "execution_count": null,
      "outputs": []
    },
    {
      "cell_type": "code",
      "metadata": {
        "colab": {
          "base_uri": "https://localhost:8080/",
          "height": 204
        },
        "id": "1fXOed2WRXj7",
        "outputId": "b427dd54-4d21-46aa-d9b8-59b10d434076"
      },
      "source": [
        "dataframe.head()"
      ],
      "execution_count": null,
      "outputs": [
        {
          "output_type": "execute_result",
          "data": {
            "text/html": [
              "<div>\n",
              "<style scoped>\n",
              "    .dataframe tbody tr th:only-of-type {\n",
              "        vertical-align: middle;\n",
              "    }\n",
              "\n",
              "    .dataframe tbody tr th {\n",
              "        vertical-align: top;\n",
              "    }\n",
              "\n",
              "    .dataframe thead th {\n",
              "        text-align: right;\n",
              "    }\n",
              "</style>\n",
              "<table border=\"1\" class=\"dataframe\">\n",
              "  <thead>\n",
              "    <tr style=\"text-align: right;\">\n",
              "      <th></th>\n",
              "      <th>team</th>\n",
              "      <th>goals</th>\n",
              "    </tr>\n",
              "  </thead>\n",
              "  <tbody>\n",
              "    <tr>\n",
              "      <th>0</th>\n",
              "      <td>Abkhazia</td>\n",
              "      <td>36.0</td>\n",
              "    </tr>\n",
              "    <tr>\n",
              "      <th>1</th>\n",
              "      <td>Afghanistan</td>\n",
              "      <td>49.0</td>\n",
              "    </tr>\n",
              "    <tr>\n",
              "      <th>2</th>\n",
              "      <td>Albania</td>\n",
              "      <td>189.0</td>\n",
              "    </tr>\n",
              "    <tr>\n",
              "      <th>3</th>\n",
              "      <td>Alderney</td>\n",
              "      <td>5.0</td>\n",
              "    </tr>\n",
              "    <tr>\n",
              "      <th>4</th>\n",
              "      <td>Algeria</td>\n",
              "      <td>508.0</td>\n",
              "    </tr>\n",
              "  </tbody>\n",
              "</table>\n",
              "</div>"
            ],
            "text/plain": [
              "          team  goals\n",
              "0     Abkhazia   36.0\n",
              "1  Afghanistan   49.0\n",
              "2      Albania  189.0\n",
              "3     Alderney    5.0\n",
              "4      Algeria  508.0"
            ]
          },
          "metadata": {
            "tags": []
          },
          "execution_count": 39
        }
      ]
    },
    {
      "cell_type": "markdown",
      "metadata": {
        "id": "nEVc41ZiGXDE"
      },
      "source": [
        "##Bar charts"
      ]
    },
    {
      "cell_type": "code",
      "metadata": {
        "colab": {
          "base_uri": "https://localhost:8080/",
          "height": 265
        },
        "id": "D4qIsjh_FMUz",
        "outputId": "f6097af2-0475-4ee0-a114-2c54bc20b2a9"
      },
      "source": [
        "# Horizontal Bar chart for the address lines\n",
        "y = Fifa_results['home_team'].value_counts().nlargest(10)\n",
        "y.plot(kind='barh')\n",
        "plt.show()"
      ],
      "execution_count": null,
      "outputs": [
        {
          "output_type": "display_data",
          "data": {
            "image/png": "[encoded data removed]",
            "text/plain": [
              "<Figure size 432x288 with 1 Axes>"
            ]
          },
          "metadata": {
            "tags": [],
            "needs_background": "light"
          }
        }
      ]
    },
    {
      "cell_type": "code",
      "metadata": {
        "colab": {
          "base_uri": "https://localhost:8080/",
          "height": 265
        },
        "id": "mt4fHFzSHQcH",
        "outputId": "6a524b15-0730-4e87-d9c7-bbc950167ab2"
      },
      "source": [
        "# Horizontal Bar chart for the address lines\n",
        "y = Fifa_results['away_team'].value_counts().nlargest(10)\n",
        "y.plot(kind='barh')\n",
        "plt.show()"
      ],
      "execution_count": null,
      "outputs": [
        {
          "output_type": "display_data",
          "data": {
            "image/png": "[encoded data removed]",
            "text/plain": [
              "<Figure size 432x288 with 1 Axes>"
            ]
          },
          "metadata": {
            "tags": [],
            "needs_background": "light"
          }
        }
      ]
    },
    {
      "cell_type": "code",
      "metadata": {
        "colab": {
          "base_uri": "https://localhost:8080/",
          "height": 265
        },
        "id": "7R7kbufyIzwe",
        "outputId": "e866d721-77b9-48b4-b6b8-fc4a1058c029"
      },
      "source": [
        "# Horizontal Bar chart for the address lines\n",
        "y = Fifa_results['neutral'].value_counts().nlargest(10)\n",
        "y.plot(kind='barh')\n",
        "plt.show()"
      ],
      "execution_count": null,
      "outputs": [
        {
          "output_type": "display_data",
          "data": {
            "image/png": "[encoded data removed]",
            "text/plain": [
              "<Figure size 432x288 with 1 Axes>"
            ]
          },
          "metadata": {
            "tags": [],
            "needs_background": "light"
          }
        }
      ]
    },
    {
      "cell_type": "markdown",
      "metadata": {
        "id": "_t1gJfuyKbtm"
      },
      "source": [
        "##pie charts"
      ]
    },
    {
      "cell_type": "code",
      "metadata": {
        "colab": {
          "base_uri": "https://localhost:8080/",
          "height": 429
        },
        "id": "qnVPjV61KZ0V",
        "outputId": "99bb31e1-33a5-4cb1-8973-5f3e40a57ab0"
      },
      "source": [
        "# Pie chart for the deal size\n",
        "Fifa_results['neutral'].value_counts(sort=False).plot.pie(autopct = '%1.1f%%', shadow = True, startangle = 140, figsize = (7,7))\n",
        "plt.title('Pie chart of the neutral',fontsize=16)\n",
        "plt.show()"
      ],
      "execution_count": null,
      "outputs": [
        {
          "output_type": "display_data",
          "data": {
            "image/png": "[encoded data removed]",
            "text/plain": [
              "<Figure size 504x504 with 1 Axes>"
            ]
          },
          "metadata": {
            "tags": []
          }
        }
      ]
    },
    {
      "cell_type": "markdown",
      "metadata": {
        "id": "C476z0Hll-3q"
      },
      "source": [
        ""
      ]
    },
    {
      "cell_type": "markdown",
      "metadata": {
        "id": "yUlIteNE3dR9"
      },
      "source": [
        "#7.0 Multicollinearity"
      ]
    },
    {
      "cell_type": "code",
      "metadata": {
        "colab": {
          "base_uri": "https://localhost:8080/",
          "height": 503
        },
        "id": "VQbd3MXw3csg",
        "outputId": "d3434265-b8dc-4075-ef5c-53143756266b"
      },
      "source": [
        "# Let's display the correlations between the variables\n",
        "correlations = Fifa_results.corr()\n",
        "\n",
        "correlations"
      ],
      "execution_count": null,
      "outputs": [
        {
          "output_type": "execute_result",
          "data": {
            "text/html": [
              "<div>\n",
              "<style scoped>\n",
              "    .dataframe tbody tr th:only-of-type {\n",
              "        vertical-align: middle;\n",
              "    }\n",
              "\n",
              "    .dataframe tbody tr th {\n",
              "        vertical-align: top;\n",
              "    }\n",
              "\n",
              "    .dataframe thead th {\n",
              "        text-align: right;\n",
              "    }\n",
              "</style>\n",
              "<table border=\"1\" class=\"dataframe\">\n",
              "  <thead>\n",
              "    <tr style=\"text-align: right;\">\n",
              "      <th></th>\n",
              "      <th>rank</th>\n",
              "      <th>total_points</th>\n",
              "      <th>previous_points</th>\n",
              "      <th>rank_change</th>\n",
              "      <th>cur_year_avg</th>\n",
              "      <th>cur_year_avg_weighted</th>\n",
              "      <th>last_year_avg</th>\n",
              "      <th>last_year_avg_weighted</th>\n",
              "      <th>two_year_ago_avg</th>\n",
              "      <th>two_year_ago_weighted</th>\n",
              "      <th>three_year_ago_avg</th>\n",
              "      <th>three_year_ago_weighted</th>\n",
              "      <th>home_score</th>\n",
              "      <th>away_score</th>\n",
              "    </tr>\n",
              "  </thead>\n",
              "  <tbody>\n",
              "    <tr>\n",
              "      <th>rank</th>\n",
              "      <td>1.000000</td>\n",
              "      <td>-0.343806</td>\n",
              "      <td>-0.725829</td>\n",
              "      <td>-0.051719</td>\n",
              "      <td>-0.339931</td>\n",
              "      <td>-0.339931</td>\n",
              "      <td>-0.315359</td>\n",
              "      <td>-0.315358</td>\n",
              "      <td>-0.309038</td>\n",
              "      <td>-0.309037</td>\n",
              "      <td>-0.305259</td>\n",
              "      <td>-0.305259</td>\n",
              "      <td>-0.006569</td>\n",
              "      <td>-0.013709</td>\n",
              "    </tr>\n",
              "    <tr>\n",
              "      <th>total_points</th>\n",
              "      <td>-0.343806</td>\n",
              "      <td>1.000000</td>\n",
              "      <td>0.531626</td>\n",
              "      <td>0.019459</td>\n",
              "      <td>0.973089</td>\n",
              "      <td>0.973089</td>\n",
              "      <td>0.931486</td>\n",
              "      <td>0.931486</td>\n",
              "      <td>0.915520</td>\n",
              "      <td>0.915520</td>\n",
              "      <td>0.906238</td>\n",
              "      <td>0.906239</td>\n",
              "      <td>0.002231</td>\n",
              "      <td>0.004485</td>\n",
              "    </tr>\n",
              "    <tr>\n",
              "      <th>previous_points</th>\n",
              "      <td>-0.725829</td>\n",
              "      <td>0.531626</td>\n",
              "      <td>1.000000</td>\n",
              "      <td>-0.028783</td>\n",
              "      <td>0.519410</td>\n",
              "      <td>0.519410</td>\n",
              "      <td>0.495404</td>\n",
              "      <td>0.495404</td>\n",
              "      <td>0.483039</td>\n",
              "      <td>0.483038</td>\n",
              "      <td>0.476186</td>\n",
              "      <td>0.476186</td>\n",
              "      <td>-0.069557</td>\n",
              "      <td>-0.071836</td>\n",
              "    </tr>\n",
              "    <tr>\n",
              "      <th>rank_change</th>\n",
              "      <td>-0.051719</td>\n",
              "      <td>0.019459</td>\n",
              "      <td>-0.028783</td>\n",
              "      <td>1.000000</td>\n",
              "      <td>0.046161</td>\n",
              "      <td>0.046161</td>\n",
              "      <td>-0.015765</td>\n",
              "      <td>-0.015765</td>\n",
              "      <td>-0.004999</td>\n",
              "      <td>-0.004999</td>\n",
              "      <td>-0.000617</td>\n",
              "      <td>-0.000617</td>\n",
              "      <td>-0.011641</td>\n",
              "      <td>0.007927</td>\n",
              "    </tr>\n",
              "    <tr>\n",
              "      <th>cur_year_avg</th>\n",
              "      <td>-0.339931</td>\n",
              "      <td>0.973089</td>\n",
              "      <td>0.519410</td>\n",
              "      <td>0.046161</td>\n",
              "      <td>1.000000</td>\n",
              "      <td>1.000000</td>\n",
              "      <td>0.843101</td>\n",
              "      <td>0.843102</td>\n",
              "      <td>0.846353</td>\n",
              "      <td>0.846353</td>\n",
              "      <td>0.839536</td>\n",
              "      <td>0.839536</td>\n",
              "      <td>0.002100</td>\n",
              "      <td>0.006115</td>\n",
              "    </tr>\n",
              "    <tr>\n",
              "      <th>cur_year_avg_weighted</th>\n",
              "      <td>-0.339931</td>\n",
              "      <td>0.973089</td>\n",
              "      <td>0.519410</td>\n",
              "      <td>0.046161</td>\n",
              "      <td>1.000000</td>\n",
              "      <td>1.000000</td>\n",
              "      <td>0.843101</td>\n",
              "      <td>0.843102</td>\n",
              "      <td>0.846353</td>\n",
              "      <td>0.846353</td>\n",
              "      <td>0.839536</td>\n",
              "      <td>0.839536</td>\n",
              "      <td>0.002100</td>\n",
              "      <td>0.006115</td>\n",
              "    </tr>\n",
              "    <tr>\n",
              "      <th>last_year_avg</th>\n",
              "      <td>-0.315359</td>\n",
              "      <td>0.931486</td>\n",
              "      <td>0.495404</td>\n",
              "      <td>-0.015765</td>\n",
              "      <td>0.843101</td>\n",
              "      <td>0.843101</td>\n",
              "      <td>1.000000</td>\n",
              "      <td>1.000000</td>\n",
              "      <td>0.840037</td>\n",
              "      <td>0.840037</td>\n",
              "      <td>0.849696</td>\n",
              "      <td>0.849697</td>\n",
              "      <td>0.000377</td>\n",
              "      <td>0.003790</td>\n",
              "    </tr>\n",
              "    <tr>\n",
              "      <th>last_year_avg_weighted</th>\n",
              "      <td>-0.315358</td>\n",
              "      <td>0.931486</td>\n",
              "      <td>0.495404</td>\n",
              "      <td>-0.015765</td>\n",
              "      <td>0.843102</td>\n",
              "      <td>0.843102</td>\n",
              "      <td>1.000000</td>\n",
              "      <td>1.000000</td>\n",
              "      <td>0.840037</td>\n",
              "      <td>0.840037</td>\n",
              "      <td>0.849697</td>\n",
              "      <td>0.849697</td>\n",
              "      <td>0.000377</td>\n",
              "      <td>0.003790</td>\n",
              "    </tr>\n",
              "    <tr>\n",
              "      <th>two_year_ago_avg</th>\n",
              "      <td>-0.309038</td>\n",
              "      <td>0.915520</td>\n",
              "      <td>0.483039</td>\n",
              "      <td>-0.004999</td>\n",
              "      <td>0.846353</td>\n",
              "      <td>0.846353</td>\n",
              "      <td>0.840037</td>\n",
              "      <td>0.840037</td>\n",
              "      <td>1.000000</td>\n",
              "      <td>1.000000</td>\n",
              "      <td>0.844669</td>\n",
              "      <td>0.844669</td>\n",
              "      <td>0.004233</td>\n",
              "      <td>0.000956</td>\n",
              "    </tr>\n",
              "    <tr>\n",
              "      <th>two_year_ago_weighted</th>\n",
              "      <td>-0.309037</td>\n",
              "      <td>0.915520</td>\n",
              "      <td>0.483038</td>\n",
              "      <td>-0.004999</td>\n",
              "      <td>0.846353</td>\n",
              "      <td>0.846353</td>\n",
              "      <td>0.840037</td>\n",
              "      <td>0.840037</td>\n",
              "      <td>1.000000</td>\n",
              "      <td>1.000000</td>\n",
              "      <td>0.844669</td>\n",
              "      <td>0.844669</td>\n",
              "      <td>0.004233</td>\n",
              "      <td>0.000956</td>\n",
              "    </tr>\n",
              "    <tr>\n",
              "      <th>three_year_ago_avg</th>\n",
              "      <td>-0.305259</td>\n",
              "      <td>0.906238</td>\n",
              "      <td>0.476186</td>\n",
              "      <td>-0.000617</td>\n",
              "      <td>0.839536</td>\n",
              "      <td>0.839536</td>\n",
              "      <td>0.849696</td>\n",
              "      <td>0.849697</td>\n",
              "      <td>0.844669</td>\n",
              "      <td>0.844669</td>\n",
              "      <td>1.000000</td>\n",
              "      <td>1.000000</td>\n",
              "      <td>0.003743</td>\n",
              "      <td>0.001913</td>\n",
              "    </tr>\n",
              "    <tr>\n",
              "      <th>three_year_ago_weighted</th>\n",
              "      <td>-0.305259</td>\n",
              "      <td>0.906239</td>\n",
              "      <td>0.476186</td>\n",
              "      <td>-0.000617</td>\n",
              "      <td>0.839536</td>\n",
              "      <td>0.839536</td>\n",
              "      <td>0.849697</td>\n",
              "      <td>0.849697</td>\n",
              "      <td>0.844669</td>\n",
              "      <td>0.844669</td>\n",
              "      <td>1.000000</td>\n",
              "      <td>1.000000</td>\n",
              "      <td>0.003743</td>\n",
              "      <td>0.001913</td>\n",
              "    </tr>\n",
              "    <tr>\n",
              "      <th>home_score</th>\n",
              "      <td>-0.006569</td>\n",
              "      <td>0.002231</td>\n",
              "      <td>-0.069557</td>\n",
              "      <td>-0.011641</td>\n",
              "      <td>0.002100</td>\n",
              "      <td>0.002100</td>\n",
              "      <td>0.000377</td>\n",
              "      <td>0.000377</td>\n",
              "      <td>0.004233</td>\n",
              "      <td>0.004233</td>\n",
              "      <td>0.003743</td>\n",
              "      <td>0.003743</td>\n",
              "      <td>1.000000</td>\n",
              "      <td>-0.133412</td>\n",
              "    </tr>\n",
              "    <tr>\n",
              "      <th>away_score</th>\n",
              "      <td>-0.013709</td>\n",
              "      <td>0.004485</td>\n",
              "      <td>-0.071836</td>\n",
              "      <td>0.007927</td>\n",
              "      <td>0.006115</td>\n",
              "      <td>0.006115</td>\n",
              "      <td>0.003790</td>\n",
              "      <td>0.003790</td>\n",
              "      <td>0.000956</td>\n",
              "      <td>0.000956</td>\n",
              "      <td>0.001913</td>\n",
              "      <td>0.001913</td>\n",
              "      <td>-0.133412</td>\n",
              "      <td>1.000000</td>\n",
              "    </tr>\n",
              "  </tbody>\n",
              "</table>\n",
              "</div>"
            ],
            "text/plain": [
              "                             rank  total_points  ...  home_score  away_score\n",
              "rank                     1.000000     -0.343806  ...   -0.006569   -0.013709\n",
              "total_points            -0.343806      1.000000  ...    0.002231    0.004485\n",
              "previous_points         -0.725829      0.531626  ...   -0.069557   -0.071836\n",
              "rank_change             -0.051719      0.019459  ...   -0.011641    0.007927\n",
              "cur_year_avg            -0.339931      0.973089  ...    0.002100    0.006115\n",
              "cur_year_avg_weighted   -0.339931      0.973089  ...    0.002100    0.006115\n",
              "last_year_avg           -0.315359      0.931486  ...    0.000377    0.003790\n",
              "last_year_avg_weighted  -0.315358      0.931486  ...    0.000377    0.003790\n",
              "two_year_ago_avg        -0.309038      0.915520  ...    0.004233    0.000956\n",
              "two_year_ago_weighted   -0.309037      0.915520  ...    0.004233    0.000956\n",
              "three_year_ago_avg      -0.305259      0.906238  ...    0.003743    0.001913\n",
              "three_year_ago_weighted -0.305259      0.906239  ...    0.003743    0.001913\n",
              "home_score              -0.006569      0.002231  ...    1.000000   -0.133412\n",
              "away_score              -0.013709      0.004485  ...   -0.133412    1.000000\n",
              "\n",
              "[14 rows x 14 columns]"
            ]
          },
          "metadata": {
            "tags": []
          },
          "execution_count": 50
        }
      ]
    },
    {
      "cell_type": "code",
      "metadata": {
        "colab": {
          "base_uri": "https://localhost:8080/",
          "height": 503
        },
        "id": "t34l2oVL4a0R",
        "outputId": "d9358a53-17cf-466b-d2b2-4a2d2f0a29e1"
      },
      "source": [
        "pd.DataFrame(np.linalg.inv(correlations.values), index = correlations.index, columns=correlations.columns)\n"
      ],
      "execution_count": null,
      "outputs": [
        {
          "output_type": "execute_result",
          "data": {
            "text/html": [
              "<div>\n",
              "<style scoped>\n",
              "    .dataframe tbody tr th:only-of-type {\n",
              "        vertical-align: middle;\n",
              "    }\n",
              "\n",
              "    .dataframe tbody tr th {\n",
              "        vertical-align: top;\n",
              "    }\n",
              "\n",
              "    .dataframe thead th {\n",
              "        text-align: right;\n",
              "    }\n",
              "</style>\n",
              "<table border=\"1\" class=\"dataframe\">\n",
              "  <thead>\n",
              "    <tr style=\"text-align: right;\">\n",
              "      <th></th>\n",
              "      <th>rank</th>\n",
              "      <th>total_points</th>\n",
              "      <th>previous_points</th>\n",
              "      <th>rank_change</th>\n",
              "      <th>cur_year_avg</th>\n",
              "      <th>cur_year_avg_weighted</th>\n",
              "      <th>last_year_avg</th>\n",
              "      <th>last_year_avg_weighted</th>\n",
              "      <th>two_year_ago_avg</th>\n",
              "      <th>two_year_ago_weighted</th>\n",
              "      <th>three_year_ago_avg</th>\n",
              "      <th>three_year_ago_weighted</th>\n",
              "      <th>home_score</th>\n",
              "      <th>away_score</th>\n",
              "    </tr>\n",
              "  </thead>\n",
              "  <tbody>\n",
              "    <tr>\n",
              "      <th>rank</th>\n",
              "      <td>2.184979e+00</td>\n",
              "      <td>1.719126e+01</td>\n",
              "      <td>1.707579e+00</td>\n",
              "      <td>1.684852e-01</td>\n",
              "      <td>9.716217e+11</td>\n",
              "      <td>-9.696948e+11</td>\n",
              "      <td>4.397682e+02</td>\n",
              "      <td>-4.444764e+02</td>\n",
              "      <td>-2.987189e+04</td>\n",
              "      <td>2.983349e+04</td>\n",
              "      <td>7.040805e+03</td>\n",
              "      <td>-7.032229e+03</td>\n",
              "      <td>1.695171e-01</td>\n",
              "      <td>1.655725e-01</td>\n",
              "    </tr>\n",
              "    <tr>\n",
              "      <th>total_points</th>\n",
              "      <td>1.053980e+01</td>\n",
              "      <td>3.881805e+05</td>\n",
              "      <td>1.268781e+01</td>\n",
              "      <td>-5.173552e+00</td>\n",
              "      <td>-1.459800e+14</td>\n",
              "      <td>1.459789e+14</td>\n",
              "      <td>-6.552206e+04</td>\n",
              "      <td>-3.708610e+04</td>\n",
              "      <td>4.351314e+06</td>\n",
              "      <td>-4.412413e+06</td>\n",
              "      <td>-1.005848e+06</td>\n",
              "      <td>9.654779e+05</td>\n",
              "      <td>1.930931e+01</td>\n",
              "      <td>4.645568e+01</td>\n",
              "    </tr>\n",
              "    <tr>\n",
              "      <th>previous_points</th>\n",
              "      <td>1.733568e+00</td>\n",
              "      <td>-7.351067e+00</td>\n",
              "      <td>2.739657e+00</td>\n",
              "      <td>1.753917e-01</td>\n",
              "      <td>-2.356832e+12</td>\n",
              "      <td>2.356821e+12</td>\n",
              "      <td>-1.041406e+03</td>\n",
              "      <td>1.043190e+03</td>\n",
              "      <td>7.326961e+04</td>\n",
              "      <td>-7.326902e+04</td>\n",
              "      <td>-1.666360e+04</td>\n",
              "      <td>1.666439e+04</td>\n",
              "      <td>2.147436e-01</td>\n",
              "      <td>2.776225e-01</td>\n",
              "    </tr>\n",
              "    <tr>\n",
              "      <th>rank_change</th>\n",
              "      <td>1.714354e-01</td>\n",
              "      <td>-9.693890e+00</td>\n",
              "      <td>1.841778e-01</td>\n",
              "      <td>1.026969e+00</td>\n",
              "      <td>-5.956288e+11</td>\n",
              "      <td>5.954896e+11</td>\n",
              "      <td>-2.555762e+02</td>\n",
              "      <td>2.583059e+02</td>\n",
              "      <td>1.847887e+04</td>\n",
              "      <td>-1.848074e+04</td>\n",
              "      <td>-4.089642e+03</td>\n",
              "      <td>4.091949e+03</td>\n",
              "      <td>2.092854e-02</td>\n",
              "      <td>1.695399e-02</td>\n",
              "    </tr>\n",
              "    <tr>\n",
              "      <th>cur_year_avg</th>\n",
              "      <td>-3.189089e+11</td>\n",
              "      <td>2.270359e+14</td>\n",
              "      <td>7.370910e+10</td>\n",
              "      <td>1.161671e+11</td>\n",
              "      <td>2.616547e+25</td>\n",
              "      <td>-2.616547e+25</td>\n",
              "      <td>2.451136e+15</td>\n",
              "      <td>-2.512245e+15</td>\n",
              "      <td>-8.148949e+17</td>\n",
              "      <td>8.148601e+17</td>\n",
              "      <td>1.833632e+17</td>\n",
              "      <td>-1.833867e+17</td>\n",
              "      <td>2.915839e+11</td>\n",
              "      <td>-2.300643e+11</td>\n",
              "    </tr>\n",
              "    <tr>\n",
              "      <th>cur_year_avg_weighted</th>\n",
              "      <td>3.189089e+11</td>\n",
              "      <td>-2.270359e+14</td>\n",
              "      <td>-7.370910e+10</td>\n",
              "      <td>-1.161671e+11</td>\n",
              "      <td>-2.616547e+25</td>\n",
              "      <td>2.616547e+25</td>\n",
              "      <td>-2.451136e+15</td>\n",
              "      <td>2.512245e+15</td>\n",
              "      <td>8.148949e+17</td>\n",
              "      <td>-8.148601e+17</td>\n",
              "      <td>-1.833632e+17</td>\n",
              "      <td>1.833867e+17</td>\n",
              "      <td>-2.915839e+11</td>\n",
              "      <td>2.300643e+11</td>\n",
              "    </tr>\n",
              "    <tr>\n",
              "      <th>last_year_avg</th>\n",
              "      <td>-5.349860e+04</td>\n",
              "      <td>3.828298e+07</td>\n",
              "      <td>1.162510e+04</td>\n",
              "      <td>1.941494e+04</td>\n",
              "      <td>4.418018e+18</td>\n",
              "      <td>-4.418018e+18</td>\n",
              "      <td>1.934015e+09</td>\n",
              "      <td>-1.944322e+09</td>\n",
              "      <td>-1.376015e+11</td>\n",
              "      <td>1.375956e+11</td>\n",
              "      <td>3.094934e+10</td>\n",
              "      <td>-3.095332e+10</td>\n",
              "      <td>4.913045e+04</td>\n",
              "      <td>-3.890695e+04</td>\n",
              "    </tr>\n",
              "    <tr>\n",
              "      <th>last_year_avg_weighted</th>\n",
              "      <td>5.349580e+04</td>\n",
              "      <td>-3.838563e+07</td>\n",
              "      <td>-1.162872e+04</td>\n",
              "      <td>-1.941346e+04</td>\n",
              "      <td>-4.417984e+18</td>\n",
              "      <td>4.417984e+18</td>\n",
              "      <td>-1.934000e+09</td>\n",
              "      <td>1.944334e+09</td>\n",
              "      <td>1.376005e+11</td>\n",
              "      <td>-1.375946e+11</td>\n",
              "      <td>-3.094911e+10</td>\n",
              "      <td>3.095309e+10</td>\n",
              "      <td>-4.913562e+04</td>\n",
              "      <td>3.889469e+04</td>\n",
              "    </tr>\n",
              "    <tr>\n",
              "      <th>two_year_ago_avg</th>\n",
              "      <td>6.588388e+02</td>\n",
              "      <td>-3.829657e+05</td>\n",
              "      <td>-1.921781e+02</td>\n",
              "      <td>-1.669140e+02</td>\n",
              "      <td>-2.166283e+16</td>\n",
              "      <td>2.166283e+16</td>\n",
              "      <td>-9.195297e+06</td>\n",
              "      <td>9.298391e+06</td>\n",
              "      <td>1.424719e+09</td>\n",
              "      <td>-1.424660e+09</td>\n",
              "      <td>-1.471700e+08</td>\n",
              "      <td>1.472095e+08</td>\n",
              "      <td>-4.876138e+02</td>\n",
              "      <td>3.817419e+02</td>\n",
              "    </tr>\n",
              "    <tr>\n",
              "      <th>two_year_ago_weighted</th>\n",
              "      <td>-6.605141e+02</td>\n",
              "      <td>3.219990e+05</td>\n",
              "      <td>1.900622e+02</td>\n",
              "      <td>1.677951e+02</td>\n",
              "      <td>2.168470e+16</td>\n",
              "      <td>-2.168470e+16</td>\n",
              "      <td>9.205139e+06</td>\n",
              "      <td>-9.292118e+06</td>\n",
              "      <td>-1.425370e+09</td>\n",
              "      <td>1.425321e+09</td>\n",
              "      <td>1.473208e+08</td>\n",
              "      <td>-1.473539e+08</td>\n",
              "      <td>4.845516e+02</td>\n",
              "      <td>-3.890266e+02</td>\n",
              "    </tr>\n",
              "    <tr>\n",
              "      <th>three_year_ago_avg</th>\n",
              "      <td>1.524891e+03</td>\n",
              "      <td>-9.004597e+05</td>\n",
              "      <td>-4.453317e+02</td>\n",
              "      <td>-3.862168e+02</td>\n",
              "      <td>-1.057511e+17</td>\n",
              "      <td>1.057511e+17</td>\n",
              "      <td>-2.128524e+07</td>\n",
              "      <td>2.152757e+07</td>\n",
              "      <td>3.298143e+09</td>\n",
              "      <td>-3.298005e+09</td>\n",
              "      <td>-3.406700e+08</td>\n",
              "      <td>3.407630e+08</td>\n",
              "      <td>-1.129295e+03</td>\n",
              "      <td>8.820395e+02</td>\n",
              "    </tr>\n",
              "    <tr>\n",
              "      <th>three_year_ago_weighted</th>\n",
              "      <td>-1.526005e+03</td>\n",
              "      <td>8.600523e+05</td>\n",
              "      <td>4.439591e+02</td>\n",
              "      <td>3.867842e+02</td>\n",
              "      <td>1.057665e+17</td>\n",
              "      <td>-1.057665e+17</td>\n",
              "      <td>2.129211e+07</td>\n",
              "      <td>-2.152377e+07</td>\n",
              "      <td>-3.298602e+09</td>\n",
              "      <td>3.298470e+09</td>\n",
              "      <td>3.407756e+08</td>\n",
              "      <td>-3.408643e+08</td>\n",
              "      <td>1.127275e+03</td>\n",
              "      <td>-8.868760e+02</td>\n",
              "    </tr>\n",
              "    <tr>\n",
              "      <th>home_score</th>\n",
              "      <td>1.624474e-01</td>\n",
              "      <td>1.825975e+01</td>\n",
              "      <td>2.401386e-01</td>\n",
              "      <td>2.619511e-02</td>\n",
              "      <td>-3.084371e+11</td>\n",
              "      <td>3.084371e+11</td>\n",
              "      <td>-1.321397e+02</td>\n",
              "      <td>1.273182e+02</td>\n",
              "      <td>9.359729e+03</td>\n",
              "      <td>-9.362625e+03</td>\n",
              "      <td>-2.112296e+03</td>\n",
              "      <td>2.110382e+03</td>\n",
              "      <td>1.037172e+00</td>\n",
              "      <td>1.632812e-01</td>\n",
              "    </tr>\n",
              "    <tr>\n",
              "      <th>away_score</th>\n",
              "      <td>1.761536e-01</td>\n",
              "      <td>4.372317e+01</td>\n",
              "      <td>2.564292e-01</td>\n",
              "      <td>1.097528e-02</td>\n",
              "      <td>-1.669922e+11</td>\n",
              "      <td>1.669922e+11</td>\n",
              "      <td>-7.642449e+01</td>\n",
              "      <td>6.484700e+01</td>\n",
              "      <td>5.392056e+03</td>\n",
              "      <td>-5.398926e+03</td>\n",
              "      <td>-1.218048e+03</td>\n",
              "      <td>1.213497e+03</td>\n",
              "      <td>1.587083e-01</td>\n",
              "      <td>1.048972e+00</td>\n",
              "    </tr>\n",
              "  </tbody>\n",
              "</table>\n",
              "</div>"
            ],
            "text/plain": [
              "                                 rank  total_points  ...    home_score    away_score\n",
              "rank                     2.184979e+00  1.719126e+01  ...  1.695171e-01  1.655725e-01\n",
              "total_points             1.053980e+01  3.881805e+05  ...  1.930931e+01  4.645568e+01\n",
              "previous_points          1.733568e+00 -7.351067e+00  ...  2.147436e-01  2.776225e-01\n",
              "rank_change              1.714354e-01 -9.693890e+00  ...  2.092854e-02  1.695399e-02\n",
              "cur_year_avg            -3.189089e+11  2.270359e+14  ...  2.915839e+11 -2.300643e+11\n",
              "cur_year_avg_weighted    3.189089e+11 -2.270359e+14  ... -2.915839e+11  2.300643e+11\n",
              "last_year_avg           -5.349860e+04  3.828298e+07  ...  4.913045e+04 -3.890695e+04\n",
              "last_year_avg_weighted   5.349580e+04 -3.838563e+07  ... -4.913562e+04  3.889469e+04\n",
              "two_year_ago_avg         6.588388e+02 -3.829657e+05  ... -4.876138e+02  3.817419e+02\n",
              "two_year_ago_weighted   -6.605141e+02  3.219990e+05  ...  4.845516e+02 -3.890266e+02\n",
              "three_year_ago_avg       1.524891e+03 -9.004597e+05  ... -1.129295e+03  8.820395e+02\n",
              "three_year_ago_weighted -1.526005e+03  8.600523e+05  ...  1.127275e+03 -8.868760e+02\n",
              "home_score               1.624474e-01  1.825975e+01  ...  1.037172e+00  1.632812e-01\n",
              "away_score               1.761536e-01  4.372317e+01  ...  1.587083e-01  1.048972e+00\n",
              "\n",
              "[14 rows x 14 columns]"
            ]
          },
          "metadata": {
            "tags": []
          },
          "execution_count": 51
        }
      ]
    },
    {
      "cell_type": "code",
      "metadata": {
        "id": "_wuLLPA6R-NV"
      },
      "source": [
        "import seaborn as sb"
      ],
      "execution_count": null,
      "outputs": []
    },
    {
      "cell_type": "code",
      "metadata": {
        "colab": {
          "base_uri": "https://localhost:8080/",
          "height": 405
        },
        "id": "JYGe-BaONF4f",
        "outputId": "7803ab9f-9483-4fc7-8a81-b68e1463a102"
      },
      "source": [
        "sb.heatmap(Fifa_results.corr()) "
      ],
      "execution_count": null,
      "outputs": [
        {
          "output_type": "execute_result",
          "data": {
            "text/plain": [
              "<matplotlib.axes._subplots.AxesSubplot at 0x7f30935d88d0>"
            ]
          },
          "metadata": {
            "tags": []
          },
          "execution_count": 53
        },
        {
          "output_type": "display_data",
          "data": {
            "image/png": "[encoded data removed]",
            "text/plain": [
              "<Figure size 432x288 with 2 Axes>"
            ]
          },
          "metadata": {
            "tags": [],
            "needs_background": "light"
          }
        }
      ]
    },
    {
      "cell_type": "code",
      "metadata": {
        "colab": {
          "base_uri": "https://localhost:8080/",
          "height": 503
        },
        "id": "Z0bnq-lQGR19",
        "outputId": "e4b4515b-a722-4244-92a6-a87c51b8bcf2"
      },
      "source": [
        "#finding the inverse of the correlation matrix we got\n",
        "inver_matrices=pd.DataFrame(np.linalg.inv(correlations.values), index = correlations.index, columns=correlations.columns)\n",
        "inver_matrices"
      ],
      "execution_count": null,
      "outputs": [
        {
          "output_type": "execute_result",
          "data": {
            "text/html": [
              "<div>\n",
              "<style scoped>\n",
              "    .dataframe tbody tr th:only-of-type {\n",
              "        vertical-align: middle;\n",
              "    }\n",
              "\n",
              "    .dataframe tbody tr th {\n",
              "        vertical-align: top;\n",
              "    }\n",
              "\n",
              "    .dataframe thead th {\n",
              "        text-align: right;\n",
              "    }\n",
              "</style>\n",
              "<table border=\"1\" class=\"dataframe\">\n",
              "  <thead>\n",
              "    <tr style=\"text-align: right;\">\n",
              "      <th></th>\n",
              "      <th>rank</th>\n",
              "      <th>total_points</th>\n",
              "      <th>previous_points</th>\n",
              "      <th>rank_change</th>\n",
              "      <th>cur_year_avg</th>\n",
              "      <th>cur_year_avg_weighted</th>\n",
              "      <th>last_year_avg</th>\n",
              "      <th>last_year_avg_weighted</th>\n",
              "      <th>two_year_ago_avg</th>\n",
              "      <th>two_year_ago_weighted</th>\n",
              "      <th>three_year_ago_avg</th>\n",
              "      <th>three_year_ago_weighted</th>\n",
              "      <th>home_score</th>\n",
              "      <th>away_score</th>\n",
              "    </tr>\n",
              "  </thead>\n",
              "  <tbody>\n",
              "    <tr>\n",
              "      <th>rank</th>\n",
              "      <td>2.184979e+00</td>\n",
              "      <td>1.719126e+01</td>\n",
              "      <td>1.707579e+00</td>\n",
              "      <td>1.684852e-01</td>\n",
              "      <td>9.716217e+11</td>\n",
              "      <td>-9.696948e+11</td>\n",
              "      <td>4.397682e+02</td>\n",
              "      <td>-4.444764e+02</td>\n",
              "      <td>-2.987189e+04</td>\n",
              "      <td>2.983349e+04</td>\n",
              "      <td>7.040805e+03</td>\n",
              "      <td>-7.032229e+03</td>\n",
              "      <td>1.695171e-01</td>\n",
              "      <td>1.655725e-01</td>\n",
              "    </tr>\n",
              "    <tr>\n",
              "      <th>total_points</th>\n",
              "      <td>1.053980e+01</td>\n",
              "      <td>3.881805e+05</td>\n",
              "      <td>1.268781e+01</td>\n",
              "      <td>-5.173552e+00</td>\n",
              "      <td>-1.459800e+14</td>\n",
              "      <td>1.459789e+14</td>\n",
              "      <td>-6.552206e+04</td>\n",
              "      <td>-3.708610e+04</td>\n",
              "      <td>4.351314e+06</td>\n",
              "      <td>-4.412413e+06</td>\n",
              "      <td>-1.005848e+06</td>\n",
              "      <td>9.654779e+05</td>\n",
              "      <td>1.930931e+01</td>\n",
              "      <td>4.645568e+01</td>\n",
              "    </tr>\n",
              "    <tr>\n",
              "      <th>previous_points</th>\n",
              "      <td>1.733568e+00</td>\n",
              "      <td>-7.351067e+00</td>\n",
              "      <td>2.739657e+00</td>\n",
              "      <td>1.753917e-01</td>\n",
              "      <td>-2.356832e+12</td>\n",
              "      <td>2.356821e+12</td>\n",
              "      <td>-1.041406e+03</td>\n",
              "      <td>1.043190e+03</td>\n",
              "      <td>7.326961e+04</td>\n",
              "      <td>-7.326902e+04</td>\n",
              "      <td>-1.666360e+04</td>\n",
              "      <td>1.666439e+04</td>\n",
              "      <td>2.147436e-01</td>\n",
              "      <td>2.776225e-01</td>\n",
              "    </tr>\n",
              "    <tr>\n",
              "      <th>rank_change</th>\n",
              "      <td>1.714354e-01</td>\n",
              "      <td>-9.693890e+00</td>\n",
              "      <td>1.841778e-01</td>\n",
              "      <td>1.026969e+00</td>\n",
              "      <td>-5.956288e+11</td>\n",
              "      <td>5.954896e+11</td>\n",
              "      <td>-2.555762e+02</td>\n",
              "      <td>2.583059e+02</td>\n",
              "      <td>1.847887e+04</td>\n",
              "      <td>-1.848074e+04</td>\n",
              "      <td>-4.089642e+03</td>\n",
              "      <td>4.091949e+03</td>\n",
              "      <td>2.092854e-02</td>\n",
              "      <td>1.695399e-02</td>\n",
              "    </tr>\n",
              "    <tr>\n",
              "      <th>cur_year_avg</th>\n",
              "      <td>-3.189089e+11</td>\n",
              "      <td>2.270359e+14</td>\n",
              "      <td>7.370910e+10</td>\n",
              "      <td>1.161671e+11</td>\n",
              "      <td>2.616547e+25</td>\n",
              "      <td>-2.616547e+25</td>\n",
              "      <td>2.451136e+15</td>\n",
              "      <td>-2.512245e+15</td>\n",
              "      <td>-8.148949e+17</td>\n",
              "      <td>8.148601e+17</td>\n",
              "      <td>1.833632e+17</td>\n",
              "      <td>-1.833867e+17</td>\n",
              "      <td>2.915839e+11</td>\n",
              "      <td>-2.300643e+11</td>\n",
              "    </tr>\n",
              "    <tr>\n",
              "      <th>cur_year_avg_weighted</th>\n",
              "      <td>3.189089e+11</td>\n",
              "      <td>-2.270359e+14</td>\n",
              "      <td>-7.370910e+10</td>\n",
              "      <td>-1.161671e+11</td>\n",
              "      <td>-2.616547e+25</td>\n",
              "      <td>2.616547e+25</td>\n",
              "      <td>-2.451136e+15</td>\n",
              "      <td>2.512245e+15</td>\n",
              "      <td>8.148949e+17</td>\n",
              "      <td>-8.148601e+17</td>\n",
              "      <td>-1.833632e+17</td>\n",
              "      <td>1.833867e+17</td>\n",
              "      <td>-2.915839e+11</td>\n",
              "      <td>2.300643e+11</td>\n",
              "    </tr>\n",
              "    <tr>\n",
              "      <th>last_year_avg</th>\n",
              "      <td>-5.349860e+04</td>\n",
              "      <td>3.828298e+07</td>\n",
              "      <td>1.162510e+04</td>\n",
              "      <td>1.941494e+04</td>\n",
              "      <td>4.418018e+18</td>\n",
              "      <td>-4.418018e+18</td>\n",
              "      <td>1.934015e+09</td>\n",
              "      <td>-1.944322e+09</td>\n",
              "      <td>-1.376015e+11</td>\n",
              "      <td>1.375956e+11</td>\n",
              "      <td>3.094934e+10</td>\n",
              "      <td>-3.095332e+10</td>\n",
              "      <td>4.913045e+04</td>\n",
              "      <td>-3.890695e+04</td>\n",
              "    </tr>\n",
              "    <tr>\n",
              "      <th>last_year_avg_weighted</th>\n",
              "      <td>5.349580e+04</td>\n",
              "      <td>-3.838563e+07</td>\n",
              "      <td>-1.162872e+04</td>\n",
              "      <td>-1.941346e+04</td>\n",
              "      <td>-4.417984e+18</td>\n",
              "      <td>4.417984e+18</td>\n",
              "      <td>-1.934000e+09</td>\n",
              "      <td>1.944334e+09</td>\n",
              "      <td>1.376005e+11</td>\n",
              "      <td>-1.375946e+11</td>\n",
              "      <td>-3.094911e+10</td>\n",
              "      <td>3.095309e+10</td>\n",
              "      <td>-4.913562e+04</td>\n",
              "      <td>3.889469e+04</td>\n",
              "    </tr>\n",
              "    <tr>\n",
              "      <th>two_year_ago_avg</th>\n",
              "      <td>6.588388e+02</td>\n",
              "      <td>-3.829657e+05</td>\n",
              "      <td>-1.921781e+02</td>\n",
              "      <td>-1.669140e+02</td>\n",
              "      <td>-2.166283e+16</td>\n",
              "      <td>2.166283e+16</td>\n",
              "      <td>-9.195297e+06</td>\n",
              "      <td>9.298391e+06</td>\n",
              "      <td>1.424719e+09</td>\n",
              "      <td>-1.424660e+09</td>\n",
              "      <td>-1.471700e+08</td>\n",
              "      <td>1.472095e+08</td>\n",
              "      <td>-4.876138e+02</td>\n",
              "      <td>3.817419e+02</td>\n",
              "    </tr>\n",
              "    <tr>\n",
              "      <th>two_year_ago_weighted</th>\n",
              "      <td>-6.605141e+02</td>\n",
              "      <td>3.219990e+05</td>\n",
              "      <td>1.900622e+02</td>\n",
              "      <td>1.677951e+02</td>\n",
              "      <td>2.168470e+16</td>\n",
              "      <td>-2.168470e+16</td>\n",
              "      <td>9.205139e+06</td>\n",
              "      <td>-9.292118e+06</td>\n",
              "      <td>-1.425370e+09</td>\n",
              "      <td>1.425321e+09</td>\n",
              "      <td>1.473208e+08</td>\n",
              "      <td>-1.473539e+08</td>\n",
              "      <td>4.845516e+02</td>\n",
              "      <td>-3.890266e+02</td>\n",
              "    </tr>\n",
              "    <tr>\n",
              "      <th>three_year_ago_avg</th>\n",
              "      <td>1.524891e+03</td>\n",
              "      <td>-9.004597e+05</td>\n",
              "      <td>-4.453317e+02</td>\n",
              "      <td>-3.862168e+02</td>\n",
              "      <td>-1.057511e+17</td>\n",
              "      <td>1.057511e+17</td>\n",
              "      <td>-2.128524e+07</td>\n",
              "      <td>2.152757e+07</td>\n",
              "      <td>3.298143e+09</td>\n",
              "      <td>-3.298005e+09</td>\n",
              "      <td>-3.406700e+08</td>\n",
              "      <td>3.407630e+08</td>\n",
              "      <td>-1.129295e+03</td>\n",
              "      <td>8.820395e+02</td>\n",
              "    </tr>\n",
              "    <tr>\n",
              "      <th>three_year_ago_weighted</th>\n",
              "      <td>-1.526005e+03</td>\n",
              "      <td>8.600523e+05</td>\n",
              "      <td>4.439591e+02</td>\n",
              "      <td>3.867842e+02</td>\n",
              "      <td>1.057665e+17</td>\n",
              "      <td>-1.057665e+17</td>\n",
              "      <td>2.129211e+07</td>\n",
              "      <td>-2.152377e+07</td>\n",
              "      <td>-3.298602e+09</td>\n",
              "      <td>3.298470e+09</td>\n",
              "      <td>3.407756e+08</td>\n",
              "      <td>-3.408643e+08</td>\n",
              "      <td>1.127275e+03</td>\n",
              "      <td>-8.868760e+02</td>\n",
              "    </tr>\n",
              "    <tr>\n",
              "      <th>home_score</th>\n",
              "      <td>1.624474e-01</td>\n",
              "      <td>1.825975e+01</td>\n",
              "      <td>2.401386e-01</td>\n",
              "      <td>2.619511e-02</td>\n",
              "      <td>-3.084371e+11</td>\n",
              "      <td>3.084371e+11</td>\n",
              "      <td>-1.321397e+02</td>\n",
              "      <td>1.273182e+02</td>\n",
              "      <td>9.359729e+03</td>\n",
              "      <td>-9.362625e+03</td>\n",
              "      <td>-2.112296e+03</td>\n",
              "      <td>2.110382e+03</td>\n",
              "      <td>1.037172e+00</td>\n",
              "      <td>1.632812e-01</td>\n",
              "    </tr>\n",
              "    <tr>\n",
              "      <th>away_score</th>\n",
              "      <td>1.761536e-01</td>\n",
              "      <td>4.372317e+01</td>\n",
              "      <td>2.564292e-01</td>\n",
              "      <td>1.097528e-02</td>\n",
              "      <td>-1.669922e+11</td>\n",
              "      <td>1.669922e+11</td>\n",
              "      <td>-7.642449e+01</td>\n",
              "      <td>6.484700e+01</td>\n",
              "      <td>5.392056e+03</td>\n",
              "      <td>-5.398926e+03</td>\n",
              "      <td>-1.218048e+03</td>\n",
              "      <td>1.213497e+03</td>\n",
              "      <td>1.587083e-01</td>\n",
              "      <td>1.048972e+00</td>\n",
              "    </tr>\n",
              "  </tbody>\n",
              "</table>\n",
              "</div>"
            ],
            "text/plain": [
              "                                 rank  total_points  ...    home_score    away_score\n",
              "rank                     2.184979e+00  1.719126e+01  ...  1.695171e-01  1.655725e-01\n",
              "total_points             1.053980e+01  3.881805e+05  ...  1.930931e+01  4.645568e+01\n",
              "previous_points          1.733568e+00 -7.351067e+00  ...  2.147436e-01  2.776225e-01\n",
              "rank_change              1.714354e-01 -9.693890e+00  ...  2.092854e-02  1.695399e-02\n",
              "cur_year_avg            -3.189089e+11  2.270359e+14  ...  2.915839e+11 -2.300643e+11\n",
              "cur_year_avg_weighted    3.189089e+11 -2.270359e+14  ... -2.915839e+11  2.300643e+11\n",
              "last_year_avg           -5.349860e+04  3.828298e+07  ...  4.913045e+04 -3.890695e+04\n",
              "last_year_avg_weighted   5.349580e+04 -3.838563e+07  ... -4.913562e+04  3.889469e+04\n",
              "two_year_ago_avg         6.588388e+02 -3.829657e+05  ... -4.876138e+02  3.817419e+02\n",
              "two_year_ago_weighted   -6.605141e+02  3.219990e+05  ...  4.845516e+02 -3.890266e+02\n",
              "three_year_ago_avg       1.524891e+03 -9.004597e+05  ... -1.129295e+03  8.820395e+02\n",
              "three_year_ago_weighted -1.526005e+03  8.600523e+05  ...  1.127275e+03 -8.868760e+02\n",
              "home_score               1.624474e-01  1.825975e+01  ...  1.037172e+00  1.632812e-01\n",
              "away_score               1.761536e-01  4.372317e+01  ...  1.587083e-01  1.048972e+00\n",
              "\n",
              "[14 rows x 14 columns]"
            ]
          },
          "metadata": {
            "tags": []
          },
          "execution_count": 54
        }
      ]
    },
    {
      "cell_type": "code",
      "metadata": {
        "colab": {
          "base_uri": "https://localhost:8080/",
          "height": 730
        },
        "id": "koWxa0AnGkLK",
        "outputId": "dacfcdb0-f997-4d1b-9ece-34ddec1912b9"
      },
      "source": [
        "corr = inver_matrices.corr()\n",
        "plt.figure(figsize=(8,10))\n",
        "sns.heatmap(corr,xticklabels=corr.columns,yticklabels=corr.columns,linewidth=2.0,annot=True)\n",
        "plt.title('inverse correlation for the numerical variables',fontsize=18)\n",
        "plt.show()"
      ],
      "execution_count": null,
      "outputs": [
        {
          "output_type": "display_data",
          "data": {
            "image/png": "[encoded data removed]",
            "text/plain": [
              "<Figure size 576x720 with 2 Axes>"
            ]
          },
          "metadata": {
            "tags": [],
            "needs_background": "light"
          }
        }
      ]
    },
    {
      "cell_type": "code",
      "metadata": {
        "colab": {
          "base_uri": "https://localhost:8080/"
        },
        "id": "NSIgEwA5JMUQ",
        "outputId": "9e84d329-4135-4b63-8e45-a14815093166"
      },
      "source": [
        "Fifa_results.info()"
      ],
      "execution_count": null,
      "outputs": [
        {
          "output_type": "stream",
          "text": [
            "<class 'pandas.core.frame.DataFrame'>\n",
            "RangeIndex: 57793 entries, 0 to 57792\n",
            "Data columns (total 22 columns):\n",
            " #   Column                   Non-Null Count  Dtype  \n",
            "---  ------                   --------------  -----  \n",
            " 0   rank                     57793 non-null  int64  \n",
            " 1   total_points             57793 non-null  float64\n",
            " 2   previous_points          57793 non-null  int64  \n",
            " 3   rank_change              57793 non-null  int64  \n",
            " 4   cur_year_avg             57793 non-null  float64\n",
            " 5   cur_year_avg_weighted    57793 non-null  float64\n",
            " 6   last_year_avg            57793 non-null  float64\n",
            " 7   last_year_avg_weighted   57793 non-null  float64\n",
            " 8   two_year_ago_avg         57793 non-null  float64\n",
            " 9   two_year_ago_weighted    57793 non-null  float64\n",
            " 10  three_year_ago_avg       57793 non-null  float64\n",
            " 11  three_year_ago_weighted  57793 non-null  float64\n",
            " 12  confederation            57793 non-null  object \n",
            " 13  rank_date                57793 non-null  object \n",
            " 14  date                     40839 non-null  object \n",
            " 15  home_team                40839 non-null  object \n",
            " 16  away_team                40839 non-null  object \n",
            " 17  home_score               40839 non-null  float64\n",
            " 18  away_score               40839 non-null  float64\n",
            " 19  tournament               40839 non-null  object \n",
            " 20  city                     40839 non-null  object \n",
            " 21  neutral                  40839 non-null  object \n",
            "dtypes: float64(11), int64(3), object(8)\n",
            "memory usage: 9.7+ MB\n"
          ],
          "name": "stdout"
        }
      ]
    },
    {
      "cell_type": "code",
      "metadata": {
        "id": "b3DPs3xmJ2hS"
      },
      "source": [
        "#droping null values in our data\n",
        "Fifa_result=Fifa_results.dropna()"
      ],
      "execution_count": null,
      "outputs": []
    },
    {
      "cell_type": "code",
      "metadata": {
        "colab": {
          "base_uri": "https://localhost:8080/"
        },
        "id": "ceuEBPEtJDMx",
        "outputId": "29e72446-37a3-4222-ba8a-71af2239970c"
      },
      "source": [
        "Fifa_result.drop([\"confederation\",\"rank_date\",\"date\",\"home_team\",\"away_team\",\"tournament\",\"city\"],axis=1, inplace=True)"
      ],
      "execution_count": null,
      "outputs": [
        {
          "output_type": "stream",
          "text": [
            "/usr/local/lib/python3.7/dist-packages/pandas/core/frame.py:4174: SettingWithCopyWarning: \n",
            "A value is trying to be set on a copy of a slice from a DataFrame\n",
            "\n",
            "See the caveats in the documentation: https://pandas.pydata.org/pandas-docs/stable/user_guide/indexing.html#returning-a-view-versus-a-copy\n",
            "  errors=errors,\n"
          ],
          "name": "stderr"
        }
      ]
    },
    {
      "cell_type": "code",
      "metadata": {
        "colab": {
          "base_uri": "https://localhost:8080/",
          "height": 224
        },
        "id": "QzhoCAppIdd-",
        "outputId": "681cf997-b199-4d01-8e57-3cbcba86f3bb"
      },
      "source": [
        "Fifa_result.head()"
      ],
      "execution_count": null,
      "outputs": [
        {
          "output_type": "execute_result",
          "data": {
            "text/html": [
              "<div>\n",
              "<style scoped>\n",
              "    .dataframe tbody tr th:only-of-type {\n",
              "        vertical-align: middle;\n",
              "    }\n",
              "\n",
              "    .dataframe tbody tr th {\n",
              "        vertical-align: top;\n",
              "    }\n",
              "\n",
              "    .dataframe thead th {\n",
              "        text-align: right;\n",
              "    }\n",
              "</style>\n",
              "<table border=\"1\" class=\"dataframe\">\n",
              "  <thead>\n",
              "    <tr style=\"text-align: right;\">\n",
              "      <th></th>\n",
              "      <th>rank</th>\n",
              "      <th>total_points</th>\n",
              "      <th>previous_points</th>\n",
              "      <th>rank_change</th>\n",
              "      <th>cur_year_avg</th>\n",
              "      <th>cur_year_avg_weighted</th>\n",
              "      <th>last_year_avg</th>\n",
              "      <th>last_year_avg_weighted</th>\n",
              "      <th>two_year_ago_avg</th>\n",
              "      <th>two_year_ago_weighted</th>\n",
              "      <th>three_year_ago_avg</th>\n",
              "      <th>three_year_ago_weighted</th>\n",
              "      <th>home_score</th>\n",
              "      <th>away_score</th>\n",
              "      <th>neutral</th>\n",
              "    </tr>\n",
              "  </thead>\n",
              "  <tbody>\n",
              "    <tr>\n",
              "      <th>0</th>\n",
              "      <td>1</td>\n",
              "      <td>0.0</td>\n",
              "      <td>57</td>\n",
              "      <td>0</td>\n",
              "      <td>0.0</td>\n",
              "      <td>0.0</td>\n",
              "      <td>0.0</td>\n",
              "      <td>0.0</td>\n",
              "      <td>0.0</td>\n",
              "      <td>0.0</td>\n",
              "      <td>0.0</td>\n",
              "      <td>0.0</td>\n",
              "      <td>0.0</td>\n",
              "      <td>0.0</td>\n",
              "      <td>False</td>\n",
              "    </tr>\n",
              "    <tr>\n",
              "      <th>1</th>\n",
              "      <td>2</td>\n",
              "      <td>0.0</td>\n",
              "      <td>57</td>\n",
              "      <td>0</td>\n",
              "      <td>0.0</td>\n",
              "      <td>0.0</td>\n",
              "      <td>0.0</td>\n",
              "      <td>0.0</td>\n",
              "      <td>0.0</td>\n",
              "      <td>0.0</td>\n",
              "      <td>0.0</td>\n",
              "      <td>0.0</td>\n",
              "      <td>4.0</td>\n",
              "      <td>2.0</td>\n",
              "      <td>False</td>\n",
              "    </tr>\n",
              "    <tr>\n",
              "      <th>2</th>\n",
              "      <td>3</td>\n",
              "      <td>0.0</td>\n",
              "      <td>50</td>\n",
              "      <td>9</td>\n",
              "      <td>0.0</td>\n",
              "      <td>0.0</td>\n",
              "      <td>0.0</td>\n",
              "      <td>0.0</td>\n",
              "      <td>0.0</td>\n",
              "      <td>0.0</td>\n",
              "      <td>0.0</td>\n",
              "      <td>0.0</td>\n",
              "      <td>2.0</td>\n",
              "      <td>1.0</td>\n",
              "      <td>False</td>\n",
              "    </tr>\n",
              "    <tr>\n",
              "      <th>3</th>\n",
              "      <td>4</td>\n",
              "      <td>0.0</td>\n",
              "      <td>55</td>\n",
              "      <td>0</td>\n",
              "      <td>0.0</td>\n",
              "      <td>0.0</td>\n",
              "      <td>0.0</td>\n",
              "      <td>0.0</td>\n",
              "      <td>0.0</td>\n",
              "      <td>0.0</td>\n",
              "      <td>0.0</td>\n",
              "      <td>0.0</td>\n",
              "      <td>2.0</td>\n",
              "      <td>2.0</td>\n",
              "      <td>False</td>\n",
              "    </tr>\n",
              "    <tr>\n",
              "      <th>4</th>\n",
              "      <td>5</td>\n",
              "      <td>0.0</td>\n",
              "      <td>51</td>\n",
              "      <td>5</td>\n",
              "      <td>0.0</td>\n",
              "      <td>0.0</td>\n",
              "      <td>0.0</td>\n",
              "      <td>0.0</td>\n",
              "      <td>0.0</td>\n",
              "      <td>0.0</td>\n",
              "      <td>0.0</td>\n",
              "      <td>0.0</td>\n",
              "      <td>3.0</td>\n",
              "      <td>0.0</td>\n",
              "      <td>False</td>\n",
              "    </tr>\n",
              "  </tbody>\n",
              "</table>\n",
              "</div>"
            ],
            "text/plain": [
              "   rank  total_points  previous_points  ...  home_score  away_score  neutral\n",
              "0     1           0.0               57  ...         0.0         0.0    False\n",
              "1     2           0.0               57  ...         4.0         2.0    False\n",
              "2     3           0.0               50  ...         2.0         1.0    False\n",
              "3     4           0.0               55  ...         2.0         2.0    False\n",
              "4     5           0.0               51  ...         3.0         0.0    False\n",
              "\n",
              "[5 rows x 15 columns]"
            ]
          },
          "metadata": {
            "tags": []
          },
          "execution_count": 65
        }
      ]
    },
    {
      "cell_type": "code",
      "metadata": {
        "colab": {
          "base_uri": "https://localhost:8080/"
        },
        "id": "CeEZRQJhMb7p",
        "outputId": "13b6bb04-0ad0-4aa6-f625-9b2b42da3555"
      },
      "source": [
        "Fifa_result.neutral.replace(('True', 'False'), (1, 0), inplace=True)"
      ],
      "execution_count": null,
      "outputs": [
        {
          "output_type": "stream",
          "text": [
            "/usr/local/lib/python3.7/dist-packages/pandas/core/series.py:4582: SettingWithCopyWarning: \n",
            "A value is trying to be set on a copy of a slice from a DataFrame\n",
            "\n",
            "See the caveats in the documentation: https://pandas.pydata.org/pandas-docs/stable/user_guide/indexing.html#returning-a-view-versus-a-copy\n",
            "  method=method,\n"
          ],
          "name": "stderr"
        }
      ]
    },
    {
      "cell_type": "code",
      "metadata": {
        "id": "ofB9cSwwIBDB"
      },
      "source": [
        "#changing the data types from floats to integers\n",
        "Fifa_results_data=Fifa_result. astype(int)"
      ],
      "execution_count": null,
      "outputs": []
    },
    {
      "cell_type": "code",
      "metadata": {
        "colab": {
          "base_uri": "https://localhost:8080/",
          "height": 100
        },
        "id": "punl-Xk4NJAV",
        "outputId": "269c11c2-32b7-4d1e-8054-8617de590886"
      },
      "source": [
        "Fifa_results_data.head(1)"
      ],
      "execution_count": null,
      "outputs": [
        {
          "output_type": "execute_result",
          "data": {
            "text/html": [
              "<div>\n",
              "<style scoped>\n",
              "    .dataframe tbody tr th:only-of-type {\n",
              "        vertical-align: middle;\n",
              "    }\n",
              "\n",
              "    .dataframe tbody tr th {\n",
              "        vertical-align: top;\n",
              "    }\n",
              "\n",
              "    .dataframe thead th {\n",
              "        text-align: right;\n",
              "    }\n",
              "</style>\n",
              "<table border=\"1\" class=\"dataframe\">\n",
              "  <thead>\n",
              "    <tr style=\"text-align: right;\">\n",
              "      <th></th>\n",
              "      <th>rank</th>\n",
              "      <th>total_points</th>\n",
              "      <th>previous_points</th>\n",
              "      <th>rank_change</th>\n",
              "      <th>cur_year_avg</th>\n",
              "      <th>cur_year_avg_weighted</th>\n",
              "      <th>last_year_avg</th>\n",
              "      <th>last_year_avg_weighted</th>\n",
              "      <th>two_year_ago_avg</th>\n",
              "      <th>two_year_ago_weighted</th>\n",
              "      <th>three_year_ago_avg</th>\n",
              "      <th>three_year_ago_weighted</th>\n",
              "      <th>home_score</th>\n",
              "      <th>away_score</th>\n",
              "      <th>neutral</th>\n",
              "    </tr>\n",
              "  </thead>\n",
              "  <tbody>\n",
              "    <tr>\n",
              "      <th>0</th>\n",
              "      <td>1</td>\n",
              "      <td>0</td>\n",
              "      <td>57</td>\n",
              "      <td>0</td>\n",
              "      <td>0</td>\n",
              "      <td>0</td>\n",
              "      <td>0</td>\n",
              "      <td>0</td>\n",
              "      <td>0</td>\n",
              "      <td>0</td>\n",
              "      <td>0</td>\n",
              "      <td>0</td>\n",
              "      <td>0</td>\n",
              "      <td>0</td>\n",
              "      <td>0</td>\n",
              "    </tr>\n",
              "  </tbody>\n",
              "</table>\n",
              "</div>"
            ],
            "text/plain": [
              "   rank  total_points  previous_points  ...  home_score  away_score  neutral\n",
              "0     1             0               57  ...           0           0        0\n",
              "\n",
              "[1 rows x 15 columns]"
            ]
          },
          "metadata": {
            "tags": []
          },
          "execution_count": 73
        }
      ]
    },
    {
      "cell_type": "code",
      "metadata": {
        "id": "HYLVqmd_NF1p"
      },
      "source": [
        "# Splitting our dataset\n",
        "#\n",
        "X = Fifa_results_data.drop(\"home_score\",axis=1)\n",
        "y = Fifa_results_data[\"home_score\"]\n",
        "\n",
        "from sklearn.model_selection import train_test_split\n",
        "X_train, X_test, y_train, y_test = train_test_split(X, y, test_size =0.3, random_state=10)"
      ],
      "execution_count": null,
      "outputs": []
    },
    {
      "cell_type": "code",
      "metadata": {
        "colab": {
          "base_uri": "https://localhost:8080/"
        },
        "id": "nGt_kEpDNFuR",
        "outputId": "bcaad1d9-8591-4cd0-8cc0-315eaf8d2e4c"
      },
      "source": [
        "# Fitting our model\n",
        "# \n",
        "from sklearn.linear_model import LogisticRegression\n",
        "\n",
        "LogReg = LogisticRegression()\n",
        "LogReg.fit(X_train, y_train)"
      ],
      "execution_count": null,
      "outputs": [
        {
          "output_type": "stream",
          "text": [
            "/usr/local/lib/python3.7/dist-packages/sklearn/linear_model/_logistic.py:940: ConvergenceWarning: lbfgs failed to converge (status=1):\n",
            "STOP: TOTAL NO. of ITERATIONS REACHED LIMIT.\n",
            "\n",
            "Increase the number of iterations (max_iter) or scale the data as shown in:\n",
            "    https://scikit-learn.org/stable/modules/preprocessing.html\n",
            "Please also refer to the documentation for alternative solver options:\n",
            "    https://scikit-learn.org/stable/modules/linear_model.html#logistic-regression\n",
            "  extra_warning_msg=_LOGISTIC_SOLVER_CONVERGENCE_MSG)\n"
          ],
          "name": "stderr"
        },
        {
          "output_type": "execute_result",
          "data": {
            "text/plain": [
              "LogisticRegression(C=1.0, class_weight=None, dual=False, fit_intercept=True,\n",
              "                   intercept_scaling=1, l1_ratio=None, max_iter=100,\n",
              "                   multi_class='auto', n_jobs=None, penalty='l2',\n",
              "                   random_state=None, solver='lbfgs', tol=0.0001, verbose=0,\n",
              "                   warm_start=False)"
            ]
          },
          "metadata": {
            "tags": []
          },
          "execution_count": 77
        }
      ]
    },
    {
      "cell_type": "code",
      "metadata": {
        "id": "59GZYn7hVV0G"
      },
      "source": [
        "# Using our model to make a prediction\n",
        "#\n",
        "y_pred = LogReg.predict(X_test)"
      ],
      "execution_count": null,
      "outputs": []
    },
    {
      "cell_type": "code",
      "metadata": {
        "colab": {
          "base_uri": "https://localhost:8080/"
        },
        "id": "jeGruk2ZVW-H",
        "outputId": "271ed819-221b-4e9d-951d-ffd37a78bda4"
      },
      "source": [
        "# Evaluating the model\n",
        "#\n",
        "from sklearn.metrics import confusion_matrix\n",
        "confusion_matrix = confusion_matrix(y_test, y_pred)\n",
        "confusion_matrix"
      ],
      "execution_count": null,
      "outputs": [
        {
          "output_type": "execute_result",
          "data": {
            "text/plain": [
              "array([[  25, 2887,    3,    0,    0,    0,    0,    0,    0,    0,    0,\n",
              "           0,    0,    0,    0,    0,    0,    0,    0,    0,    0],\n",
              "       [  16, 3620,    8,    0,    0,    0,    0,    0,    0,    0,    0,\n",
              "           0,    0,    0,    0,    0,    0,    0,    0,    0,    0],\n",
              "       [  13, 2649,    5,    0,    0,    0,    0,    0,    0,    0,    0,\n",
              "           0,    0,    0,    0,    0,    0,    0,    0,    0,    0],\n",
              "       [   8, 1446,    5,    0,    0,    0,    0,    0,    0,    0,    0,\n",
              "           0,    0,    0,    0,    0,    0,    0,    0,    0,    0],\n",
              "       [   2,  746,    0,    0,    0,    0,    0,    0,    0,    0,    0,\n",
              "           0,    0,    0,    0,    0,    0,    0,    0,    0,    0],\n",
              "       [   4,  384,    1,    0,    0,    0,    0,    0,    0,    0,    0,\n",
              "           0,    0,    0,    0,    0,    0,    0,    0,    0,    0],\n",
              "       [   0,  186,    0,    0,    0,    0,    0,    0,    0,    0,    0,\n",
              "           0,    0,    0,    0,    0,    0,    0,    0,    0,    0],\n",
              "       [   0,  104,    1,    0,    0,    0,    0,    0,    0,    0,    0,\n",
              "           0,    0,    0,    0,    0,    0,    0,    0,    0,    0],\n",
              "       [   0,   55,    0,    0,    0,    0,    0,    0,    0,    0,    0,\n",
              "           0,    0,    0,    0,    0,    0,    0,    0,    0,    0],\n",
              "       [   0,   41,    2,    0,    0,    0,    0,    0,    0,    0,    0,\n",
              "           0,    0,    0,    0,    0,    0,    0,    0,    0,    0],\n",
              "       [   0,   12,    0,    0,    0,    0,    0,    0,    0,    0,    0,\n",
              "           0,    0,    0,    0,    0,    0,    0,    0,    0,    0],\n",
              "       [   0,   10,    0,    0,    0,    0,    0,    0,    0,    0,    0,\n",
              "           0,    0,    0,    0,    0,    0,    0,    0,    0,    0],\n",
              "       [   0,    5,    0,    0,    0,    0,    0,    0,    0,    0,    0,\n",
              "           0,    0,    0,    0,    0,    0,    0,    0,    0,    0],\n",
              "       [   0,    2,    1,    0,    0,    0,    0,    0,    0,    0,    0,\n",
              "           0,    0,    0,    0,    0,    0,    0,    0,    0,    0],\n",
              "       [   0,    2,    0,    0,    0,    0,    0,    0,    0,    0,    0,\n",
              "           0,    0,    0,    0,    0,    0,    0,    0,    0,    0],\n",
              "       [   0,    3,    0,    0,    0,    0,    0,    0,    0,    0,    0,\n",
              "           0,    0,    0,    0,    0,    0,    0,    0,    0,    0],\n",
              "       [   0,    2,    0,    0,    0,    0,    0,    0,    0,    0,    0,\n",
              "           0,    0,    0,    0,    0,    0,    0,    0,    0,    0],\n",
              "       [   0,    1,    0,    0,    0,    0,    0,    0,    0,    0,    0,\n",
              "           0,    0,    0,    0,    0,    0,    0,    0,    0,    0],\n",
              "       [   0,    1,    0,    0,    0,    0,    0,    0,    0,    0,    0,\n",
              "           0,    0,    0,    0,    0,    0,    0,    0,    0,    0],\n",
              "       [   0,    1,    0,    0,    0,    0,    0,    0,    0,    0,    0,\n",
              "           0,    0,    0,    0,    0,    0,    0,    0,    0,    0],\n",
              "       [   0,    1,    0,    0,    0,    0,    0,    0,    0,    0,    0,\n",
              "           0,    0,    0,    0,    0,    0,    0,    0,    0,    0]])"
            ]
          },
          "metadata": {
            "tags": []
          },
          "execution_count": 79
        }
      ]
    },
    {
      "cell_type": "code",
      "metadata": {
        "id": "4__UaphiVafB"
      },
      "source": [
        "# Splitting our dataset\n",
        "#\n",
        "X = Fifa_results_data.drop(\"away_score\",axis=1)\n",
        "y = Fifa_results_data[\"away_score\"]\n",
        "\n",
        "from sklearn.model_selection import train_test_split\n",
        "X_train, X_test, y_train, y_test = train_test_split(X, y, test_size = 0.3, random_state=10)"
      ],
      "execution_count": null,
      "outputs": []
    },
    {
      "cell_type": "code",
      "metadata": {
        "colab": {
          "base_uri": "https://localhost:8080/"
        },
        "id": "uH4UEPM72p7Q",
        "outputId": "0d4b13b9-0a20-4e9e-c889-dda5bff0867c"
      },
      "source": [
        "# Fitting our model\n",
        "# \n",
        "from sklearn.linear_model import LogisticRegression\n",
        "\n",
        "LogReg = LogisticRegression()\n",
        "LogReg.fit(X_train, y_train)"
      ],
      "execution_count": null,
      "outputs": [
        {
          "output_type": "stream",
          "text": [
            "/usr/local/lib/python3.7/dist-packages/sklearn/linear_model/_logistic.py:940: ConvergenceWarning: lbfgs failed to converge (status=1):\n",
            "STOP: TOTAL NO. of ITERATIONS REACHED LIMIT.\n",
            "\n",
            "Increase the number of iterations (max_iter) or scale the data as shown in:\n",
            "    https://scikit-learn.org/stable/modules/preprocessing.html\n",
            "Please also refer to the documentation for alternative solver options:\n",
            "    https://scikit-learn.org/stable/modules/linear_model.html#logistic-regression\n",
            "  extra_warning_msg=_LOGISTIC_SOLVER_CONVERGENCE_MSG)\n"
          ],
          "name": "stderr"
        },
        {
          "output_type": "execute_result",
          "data": {
            "text/plain": [
              "LogisticRegression(C=1.0, class_weight=None, dual=False, fit_intercept=True,\n",
              "                   intercept_scaling=1, l1_ratio=None, max_iter=100,\n",
              "                   multi_class='auto', n_jobs=None, penalty='l2',\n",
              "                   random_state=None, solver='lbfgs', tol=0.0001, verbose=0,\n",
              "                   warm_start=False)"
            ]
          },
          "metadata": {
            "tags": []
          },
          "execution_count": 81
        }
      ]
    },
    {
      "cell_type": "code",
      "metadata": {
        "id": "2NG_4CYd2p4W"
      },
      "source": [
        "# Using our model to make a prediction\n",
        "#\n",
        "y_pred = LogReg.predict(X_test)"
      ],
      "execution_count": null,
      "outputs": []
    },
    {
      "cell_type": "code",
      "metadata": {
        "colab": {
          "base_uri": "https://localhost:8080/"
        },
        "id": "Rf758NpR2zeM",
        "outputId": "f7fb7163-0815-4191-9f32-c90e7f9d852d"
      },
      "source": [
        "# Evaluating the model\n",
        "#\n",
        "from sklearn.metrics import confusion_matrix\n",
        "confusion_matrix = confusion_matrix(y_test, y_pred)\n",
        "confusion_matrix"
      ],
      "execution_count": null,
      "outputs": [
        {
          "output_type": "execute_result",
          "data": {
            "text/plain": [
              "array([[4516,   41,    0,    0,    0,    0,    0,    0,    0,    0,    0,\n",
              "           0,    0,    0,    0,    0,    0,    0],\n",
              "       [3925,   40,    1,    0,    0,    0,    0,    0,    0,    0,    0,\n",
              "           0,    0,    0,    0,    0,    0,    0],\n",
              "       [2087,   17,    0,    0,    0,    0,    0,    0,    0,    0,    0,\n",
              "           0,    0,    0,    0,    0,    0,    0],\n",
              "       [ 878,   12,    0,    0,    0,    0,    0,    0,    0,    0,    0,\n",
              "           0,    0,    0,    0,    0,    0,    0],\n",
              "       [ 393,    8,    0,    0,    0,    0,    0,    0,    0,    0,    0,\n",
              "           0,    0,    0,    0,    0,    0,    0],\n",
              "       [ 146,    4,    0,    0,    0,    0,    0,    0,    0,    0,    0,\n",
              "           0,    0,    0,    0,    0,    0,    0],\n",
              "       [  80,    2,    0,    0,    0,    0,    0,    0,    0,    0,    0,\n",
              "           0,    0,    0,    0,    0,    0,    0],\n",
              "       [  45,    2,    0,    0,    0,    0,    0,    0,    0,    0,    0,\n",
              "           0,    0,    0,    0,    0,    0,    0],\n",
              "       [  24,    1,    0,    0,    0,    0,    0,    0,    0,    0,    0,\n",
              "           0,    0,    0,    0,    0,    0,    0],\n",
              "       [   8,    1,    0,    0,    0,    0,    0,    0,    0,    0,    0,\n",
              "           0,    0,    0,    0,    0,    0,    0],\n",
              "       [   5,    0,    0,    0,    0,    0,    0,    0,    0,    0,    0,\n",
              "           0,    0,    0,    0,    0,    0,    0],\n",
              "       [   3,    0,    0,    0,    0,    0,    0,    0,    0,    0,    0,\n",
              "           0,    0,    0,    0,    0,    0,    0],\n",
              "       [   3,    1,    0,    0,    0,    0,    0,    0,    0,    0,    0,\n",
              "           0,    0,    0,    0,    0,    0,    0],\n",
              "       [   3,    0,    0,    0,    0,    0,    0,    0,    0,    0,    0,\n",
              "           0,    0,    0,    0,    0,    0,    0],\n",
              "       [   1,    0,    0,    0,    0,    0,    0,    0,    0,    0,    0,\n",
              "           0,    0,    0,    0,    0,    0,    0],\n",
              "       [   3,    0,    0,    0,    0,    0,    0,    0,    0,    0,    0,\n",
              "           0,    0,    0,    0,    0,    0,    0],\n",
              "       [   1,    0,    0,    0,    0,    0,    0,    0,    0,    0,    0,\n",
              "           0,    0,    0,    0,    0,    0,    0],\n",
              "       [   1,    0,    0,    0,    0,    0,    0,    0,    0,    0,    0,\n",
              "           0,    0,    0,    0,    0,    0,    0]])"
            ]
          },
          "metadata": {
            "tags": []
          },
          "execution_count": 83
        }
      ]
    },
    {
      "cell_type": "code",
      "metadata": {
        "id": "D1SgJjAxZgWj",
        "colab": {
          "base_uri": "https://localhost:8080/",
          "height": 534
        },
        "outputId": "61de8d07-c84c-4657-ea94-a1ba7bc8afb4"
      },
      "source": [
        "# Let's display the correlations between the variables\n",
        "correlations = Fifa_results_data.corr()\n",
        "\n",
        "correlations"
      ],
      "execution_count": null,
      "outputs": [
        {
          "output_type": "execute_result",
          "data": {
            "text/html": [
              "<div>\n",
              "<style scoped>\n",
              "    .dataframe tbody tr th:only-of-type {\n",
              "        vertical-align: middle;\n",
              "    }\n",
              "\n",
              "    .dataframe tbody tr th {\n",
              "        vertical-align: top;\n",
              "    }\n",
              "\n",
              "    .dataframe thead th {\n",
              "        text-align: right;\n",
              "    }\n",
              "</style>\n",
              "<table border=\"1\" class=\"dataframe\">\n",
              "  <thead>\n",
              "    <tr style=\"text-align: right;\">\n",
              "      <th></th>\n",
              "      <th>rank</th>\n",
              "      <th>total_points</th>\n",
              "      <th>previous_points</th>\n",
              "      <th>rank_change</th>\n",
              "      <th>cur_year_avg</th>\n",
              "      <th>cur_year_avg_weighted</th>\n",
              "      <th>last_year_avg</th>\n",
              "      <th>last_year_avg_weighted</th>\n",
              "      <th>two_year_ago_avg</th>\n",
              "      <th>two_year_ago_weighted</th>\n",
              "      <th>three_year_ago_avg</th>\n",
              "      <th>three_year_ago_weighted</th>\n",
              "      <th>home_score</th>\n",
              "      <th>away_score</th>\n",
              "      <th>neutral</th>\n",
              "    </tr>\n",
              "  </thead>\n",
              "  <tbody>\n",
              "    <tr>\n",
              "      <th>rank</th>\n",
              "      <td>1.000000</td>\n",
              "      <td>-0.072571</td>\n",
              "      <td>-0.645624</td>\n",
              "      <td>-0.049728</td>\n",
              "      <td>-0.068952</td>\n",
              "      <td>-0.068952</td>\n",
              "      <td>-0.073410</td>\n",
              "      <td>-0.073433</td>\n",
              "      <td>-0.070084</td>\n",
              "      <td>-0.070183</td>\n",
              "      <td>-0.062279</td>\n",
              "      <td>-0.062516</td>\n",
              "      <td>-0.006569</td>\n",
              "      <td>-0.013709</td>\n",
              "      <td>-0.001556</td>\n",
              "    </tr>\n",
              "    <tr>\n",
              "      <th>total_points</th>\n",
              "      <td>-0.072571</td>\n",
              "      <td>1.000000</td>\n",
              "      <td>0.117941</td>\n",
              "      <td>0.007164</td>\n",
              "      <td>0.975222</td>\n",
              "      <td>0.975222</td>\n",
              "      <td>0.945971</td>\n",
              "      <td>0.945776</td>\n",
              "      <td>0.945706</td>\n",
              "      <td>0.945496</td>\n",
              "      <td>0.935569</td>\n",
              "      <td>0.935257</td>\n",
              "      <td>0.002234</td>\n",
              "      <td>0.004485</td>\n",
              "      <td>0.038458</td>\n",
              "    </tr>\n",
              "    <tr>\n",
              "      <th>previous_points</th>\n",
              "      <td>-0.645624</td>\n",
              "      <td>0.117941</td>\n",
              "      <td>1.000000</td>\n",
              "      <td>-0.022447</td>\n",
              "      <td>0.111032</td>\n",
              "      <td>0.111032</td>\n",
              "      <td>0.120122</td>\n",
              "      <td>0.120149</td>\n",
              "      <td>0.112530</td>\n",
              "      <td>0.112617</td>\n",
              "      <td>0.106157</td>\n",
              "      <td>0.106374</td>\n",
              "      <td>-0.069557</td>\n",
              "      <td>-0.071836</td>\n",
              "      <td>0.060493</td>\n",
              "    </tr>\n",
              "    <tr>\n",
              "      <th>rank_change</th>\n",
              "      <td>-0.049728</td>\n",
              "      <td>0.007164</td>\n",
              "      <td>-0.022447</td>\n",
              "      <td>1.000000</td>\n",
              "      <td>0.014894</td>\n",
              "      <td>0.014894</td>\n",
              "      <td>-0.004089</td>\n",
              "      <td>-0.004118</td>\n",
              "      <td>0.005174</td>\n",
              "      <td>0.005162</td>\n",
              "      <td>-0.001058</td>\n",
              "      <td>-0.001068</td>\n",
              "      <td>-0.011641</td>\n",
              "      <td>0.007927</td>\n",
              "      <td>0.008335</td>\n",
              "    </tr>\n",
              "    <tr>\n",
              "      <th>cur_year_avg</th>\n",
              "      <td>-0.068952</td>\n",
              "      <td>0.975222</td>\n",
              "      <td>0.111032</td>\n",
              "      <td>0.014894</td>\n",
              "      <td>1.000000</td>\n",
              "      <td>1.000000</td>\n",
              "      <td>0.864390</td>\n",
              "      <td>0.864096</td>\n",
              "      <td>0.885784</td>\n",
              "      <td>0.885473</td>\n",
              "      <td>0.881271</td>\n",
              "      <td>0.880656</td>\n",
              "      <td>0.002112</td>\n",
              "      <td>0.006116</td>\n",
              "      <td>0.040680</td>\n",
              "    </tr>\n",
              "    <tr>\n",
              "      <th>cur_year_avg_weighted</th>\n",
              "      <td>-0.068952</td>\n",
              "      <td>0.975222</td>\n",
              "      <td>0.111032</td>\n",
              "      <td>0.014894</td>\n",
              "      <td>1.000000</td>\n",
              "      <td>1.000000</td>\n",
              "      <td>0.864390</td>\n",
              "      <td>0.864096</td>\n",
              "      <td>0.885784</td>\n",
              "      <td>0.885473</td>\n",
              "      <td>0.881271</td>\n",
              "      <td>0.880656</td>\n",
              "      <td>0.002112</td>\n",
              "      <td>0.006116</td>\n",
              "      <td>0.040680</td>\n",
              "    </tr>\n",
              "    <tr>\n",
              "      <th>last_year_avg</th>\n",
              "      <td>-0.073410</td>\n",
              "      <td>0.945971</td>\n",
              "      <td>0.120122</td>\n",
              "      <td>-0.004089</td>\n",
              "      <td>0.864390</td>\n",
              "      <td>0.864390</td>\n",
              "      <td>1.000000</td>\n",
              "      <td>0.999998</td>\n",
              "      <td>0.897482</td>\n",
              "      <td>0.897403</td>\n",
              "      <td>0.889867</td>\n",
              "      <td>0.890018</td>\n",
              "      <td>0.000376</td>\n",
              "      <td>0.003782</td>\n",
              "      <td>0.031693</td>\n",
              "    </tr>\n",
              "    <tr>\n",
              "      <th>last_year_avg_weighted</th>\n",
              "      <td>-0.073433</td>\n",
              "      <td>0.945776</td>\n",
              "      <td>0.120149</td>\n",
              "      <td>-0.004118</td>\n",
              "      <td>0.864096</td>\n",
              "      <td>0.864096</td>\n",
              "      <td>0.999998</td>\n",
              "      <td>1.000000</td>\n",
              "      <td>0.897346</td>\n",
              "      <td>0.897268</td>\n",
              "      <td>0.889643</td>\n",
              "      <td>0.889797</td>\n",
              "      <td>0.000375</td>\n",
              "      <td>0.003761</td>\n",
              "      <td>0.031657</td>\n",
              "    </tr>\n",
              "    <tr>\n",
              "      <th>two_year_ago_avg</th>\n",
              "      <td>-0.070084</td>\n",
              "      <td>0.945706</td>\n",
              "      <td>0.112530</td>\n",
              "      <td>0.005174</td>\n",
              "      <td>0.885784</td>\n",
              "      <td>0.885784</td>\n",
              "      <td>0.897482</td>\n",
              "      <td>0.897346</td>\n",
              "      <td>1.000000</td>\n",
              "      <td>0.999993</td>\n",
              "      <td>0.893863</td>\n",
              "      <td>0.893631</td>\n",
              "      <td>0.004236</td>\n",
              "      <td>0.000947</td>\n",
              "      <td>0.035258</td>\n",
              "    </tr>\n",
              "    <tr>\n",
              "      <th>two_year_ago_weighted</th>\n",
              "      <td>-0.070183</td>\n",
              "      <td>0.945496</td>\n",
              "      <td>0.112617</td>\n",
              "      <td>0.005162</td>\n",
              "      <td>0.885473</td>\n",
              "      <td>0.885473</td>\n",
              "      <td>0.897403</td>\n",
              "      <td>0.897268</td>\n",
              "      <td>0.999993</td>\n",
              "      <td>1.000000</td>\n",
              "      <td>0.893581</td>\n",
              "      <td>0.893354</td>\n",
              "      <td>0.004239</td>\n",
              "      <td>0.000958</td>\n",
              "      <td>0.035192</td>\n",
              "    </tr>\n",
              "    <tr>\n",
              "      <th>three_year_ago_avg</th>\n",
              "      <td>-0.062279</td>\n",
              "      <td>0.935569</td>\n",
              "      <td>0.106157</td>\n",
              "      <td>-0.001058</td>\n",
              "      <td>0.881271</td>\n",
              "      <td>0.881271</td>\n",
              "      <td>0.889867</td>\n",
              "      <td>0.889643</td>\n",
              "      <td>0.893863</td>\n",
              "      <td>0.893581</td>\n",
              "      <td>1.000000</td>\n",
              "      <td>0.999979</td>\n",
              "      <td>0.003749</td>\n",
              "      <td>0.001908</td>\n",
              "      <td>0.034343</td>\n",
              "    </tr>\n",
              "    <tr>\n",
              "      <th>three_year_ago_weighted</th>\n",
              "      <td>-0.062516</td>\n",
              "      <td>0.935257</td>\n",
              "      <td>0.106374</td>\n",
              "      <td>-0.001068</td>\n",
              "      <td>0.880656</td>\n",
              "      <td>0.880656</td>\n",
              "      <td>0.890018</td>\n",
              "      <td>0.889797</td>\n",
              "      <td>0.893631</td>\n",
              "      <td>0.893354</td>\n",
              "      <td>0.999979</td>\n",
              "      <td>1.000000</td>\n",
              "      <td>0.003771</td>\n",
              "      <td>0.001902</td>\n",
              "      <td>0.034191</td>\n",
              "    </tr>\n",
              "    <tr>\n",
              "      <th>home_score</th>\n",
              "      <td>-0.006569</td>\n",
              "      <td>0.002234</td>\n",
              "      <td>-0.069557</td>\n",
              "      <td>-0.011641</td>\n",
              "      <td>0.002112</td>\n",
              "      <td>0.002112</td>\n",
              "      <td>0.000376</td>\n",
              "      <td>0.000375</td>\n",
              "      <td>0.004236</td>\n",
              "      <td>0.004239</td>\n",
              "      <td>0.003749</td>\n",
              "      <td>0.003771</td>\n",
              "      <td>1.000000</td>\n",
              "      <td>-0.133412</td>\n",
              "      <td>-0.031660</td>\n",
              "    </tr>\n",
              "    <tr>\n",
              "      <th>away_score</th>\n",
              "      <td>-0.013709</td>\n",
              "      <td>0.004485</td>\n",
              "      <td>-0.071836</td>\n",
              "      <td>0.007927</td>\n",
              "      <td>0.006116</td>\n",
              "      <td>0.006116</td>\n",
              "      <td>0.003782</td>\n",
              "      <td>0.003761</td>\n",
              "      <td>0.000947</td>\n",
              "      <td>0.000958</td>\n",
              "      <td>0.001908</td>\n",
              "      <td>0.001902</td>\n",
              "      <td>-0.133412</td>\n",
              "      <td>1.000000</td>\n",
              "      <td>0.084335</td>\n",
              "    </tr>\n",
              "    <tr>\n",
              "      <th>neutral</th>\n",
              "      <td>-0.001556</td>\n",
              "      <td>0.038458</td>\n",
              "      <td>0.060493</td>\n",
              "      <td>0.008335</td>\n",
              "      <td>0.040680</td>\n",
              "      <td>0.040680</td>\n",
              "      <td>0.031693</td>\n",
              "      <td>0.031657</td>\n",
              "      <td>0.035258</td>\n",
              "      <td>0.035192</td>\n",
              "      <td>0.034343</td>\n",
              "      <td>0.034191</td>\n",
              "      <td>-0.031660</td>\n",
              "      <td>0.084335</td>\n",
              "      <td>1.000000</td>\n",
              "    </tr>\n",
              "  </tbody>\n",
              "</table>\n",
              "</div>"
            ],
            "text/plain": [
              "                             rank  total_points  ...  away_score   neutral\n",
              "rank                     1.000000     -0.072571  ...   -0.013709 -0.001556\n",
              "total_points            -0.072571      1.000000  ...    0.004485  0.038458\n",
              "previous_points         -0.645624      0.117941  ...   -0.071836  0.060493\n",
              "rank_change             -0.049728      0.007164  ...    0.007927  0.008335\n",
              "cur_year_avg            -0.068952      0.975222  ...    0.006116  0.040680\n",
              "cur_year_avg_weighted   -0.068952      0.975222  ...    0.006116  0.040680\n",
              "last_year_avg           -0.073410      0.945971  ...    0.003782  0.031693\n",
              "last_year_avg_weighted  -0.073433      0.945776  ...    0.003761  0.031657\n",
              "two_year_ago_avg        -0.070084      0.945706  ...    0.000947  0.035258\n",
              "two_year_ago_weighted   -0.070183      0.945496  ...    0.000958  0.035192\n",
              "three_year_ago_avg      -0.062279      0.935569  ...    0.001908  0.034343\n",
              "three_year_ago_weighted -0.062516      0.935257  ...    0.001902  0.034191\n",
              "home_score              -0.006569      0.002234  ...   -0.133412 -0.031660\n",
              "away_score              -0.013709      0.004485  ...    1.000000  0.084335\n",
              "neutral                 -0.001556      0.038458  ...    0.084335  1.000000\n",
              "\n",
              "[15 rows x 15 columns]"
            ]
          },
          "metadata": {
            "tags": []
          },
          "execution_count": 86
        }
      ]
    },
    {
      "cell_type": "markdown",
      "metadata": {
        "id": "cOhGFaiDmCeh"
      },
      "source": [
        "#8.0 Residual plots and heteroskedasticity testing\n",
        "\n",
        "Let's start by creating a model based on our revised set of independent variables above, then displaying the residual plot for it."
      ]
    },
    {
      "cell_type": "code",
      "metadata": {
        "colab": {
          "base_uri": "https://localhost:8080/"
        },
        "id": "0Rz2i0dX80EA",
        "outputId": "f5926871-32f6-4ba0-f8f2-c049f472d0d5"
      },
      "source": [
        "from sklearn import metrics\n",
        "from sklearn.model_selection import train_test_split\n",
        "from sklearn.linear_model import LinearRegression\n",
        "\n",
        "X = correlations.values\n",
        "y = correlations['home_score'].values\n",
        "\n",
        "X_train, X_test, admit_train, admit_test = train_test_split(X, y, test_size=2, random_state=10)\n",
        "\n",
        "regressor = LinearRegression()\n",
        "regressor.fit(X_train, admit_train)\n",
        "\n",
        "# This is our prediction for admission based on our model\n",
        "admit_predict = regressor.predict(X_test)\n",
        "\n",
        "# We now create the residual by substracting the test value from the predicted \n",
        "# value for each row in our dataset\n",
        "\n",
        "residuals = np.subtract(admit_predict, admit_test)\n",
        "\n",
        "# Let's describe our residual:\n",
        "pd.DataFrame(residuals).describe()\n",
        "\n",
        "residuals.mean()"
      ],
      "execution_count": null,
      "outputs": [
        {
          "output_type": "execute_result",
          "data": {
            "text/plain": [
              "-0.001580681029483708"
            ]
          },
          "metadata": {
            "tags": []
          },
          "execution_count": 93
        }
      ]
    },
    {
      "cell_type": "markdown",
      "metadata": {
        "id": "W2HzkrvSPErH"
      },
      "source": [
        "Our mean  is close to 0, indicating that we tend to be fairly correct, although slightly over estimating chances by, on average, 0.15%"
      ]
    },
    {
      "cell_type": "code",
      "metadata": {
        "colab": {
          "base_uri": "https://localhost:8080/",
          "height": 279
        },
        "id": "fngUaSK3AL3O",
        "outputId": "f041680c-8722-4a4f-a60a-14a668479bf1"
      },
      "source": [
        "import matplotlib.pyplot as plt\n",
        "\n",
        "plt.scatter(admit_predict, residuals, color='black')\n",
        "plt.ylabel('residual')\n",
        "plt.xlabel('fitted values')\n",
        "plt.axhline(y= residuals.mean(), color='red', linewidth=1)\n",
        "plt.show()"
      ],
      "execution_count": null,
      "outputs": [
        {
          "output_type": "display_data",
          "data": {
            "image/png": "[encoded data removed]",
            "text/plain": [
              "<Figure size 432x288 with 1 Axes>"
            ]
          },
          "metadata": {
            "tags": [],
            "needs_background": "light"
          }
        }
      ]
    },
    {
      "cell_type": "markdown",
      "metadata": {
        "id": "TTRX_4xHDs3s"
      },
      "source": [
        "From the our visualisation we can see that the residals are far from the mean but close to zero  hence there are no possible patterns"
      ]
    },
    {
      "cell_type": "code",
      "metadata": {
        "colab": {
          "base_uri": "https://localhost:8080/"
        },
        "id": "wonnd1GxA6SE",
        "outputId": "c2e3e87b-44ed-4807-a1b5-e245691b397d"
      },
      "source": [
        "import scipy as sp\n",
        "\n",
        "test_result, p_value = sp.stats.bartlett(admit_predict, residuals)\n",
        "\n",
        "# To interpret the results we must also compute a critical value of the chi squared distribution\n",
        "degree_of_freedom = len(admit_predict)-1\n",
        "probability = 1 - p_value\n",
        "\n",
        "critical_value = sp.stats.chi2.ppf(probability, degree_of_freedom)\n",
        "print(critical_value)\n",
        "\n",
        "# If the test_result is greater than the critical value, then we reject our null\n",
        "# hypothesis. This would mean that there are patterns to the variance of the data\n",
        "\n",
        "# Otherwise, we can identify no patterns, and we accept the null hypothesis that \n",
        "# the variance is homogeneous across our data\n",
        "if (test_result > critical_value):\n",
        "  print('the variances are unequal, and the model should be reassessed')\n",
        "else:\n",
        "  print('the variances are homogeneous')\n",
        "\n",
        "\n"
      ],
      "execution_count": null,
      "outputs": [
        {
          "output_type": "stream",
          "text": [
            "1.2241126230089\n",
            "the variances are homogeneous\n"
          ],
          "name": "stdout"
        }
      ]
    }
  ]
}